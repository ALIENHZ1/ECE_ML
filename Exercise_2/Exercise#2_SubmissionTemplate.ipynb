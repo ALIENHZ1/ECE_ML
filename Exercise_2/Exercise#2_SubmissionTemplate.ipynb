{
  "cells": [
    {
      "cell_type": "markdown",
      "metadata": {
        "id": "DAO8AZsc266y"
      },
      "source": [
        "# [Your full name goes here]\n",
        "# Programming Exercise \\#2\n",
        "---"
      ]
    },
    {
      "cell_type": "markdown",
      "metadata": {
        "id": "rJOtXeNg38_u"
      },
      "source": [
        "# Preamble"
      ]
    },
    {
      "cell_type": "code",
      "execution_count": 1,
      "metadata": {
        "id": "Ldu0WSDK4IjA"
      },
      "outputs": [
        {
          "data": {
            "text/plain": [
              "\"\\n# mount Google Drive in Google Colab\\nfrom google.colab import drive\\ndrive.mount('/content/drive')\\n\\n# change directory using the magic command %cd\\n### replace [MY PATH] below with your own path in Google Drive ###\\n### %cd /content/drive/My\\\\ Drive/[MY PATH] ###\\n\""
            ]
          },
          "execution_count": 1,
          "metadata": {},
          "output_type": "execute_result"
        }
      ],
      "source": [
        "# optional code cell when using Google Colab with Google Drive\n",
        "\n",
        "# remove the docstring comment block below in order to mount Google Drive\n",
        "'''\n",
        "# mount Google Drive in Google Colab\n",
        "from google.colab import drive\n",
        "drive.mount('/content/drive')\n",
        "\n",
        "# change directory using the magic command %cd\n",
        "### replace [MY PATH] below with your own path in Google Drive ###\n",
        "### %cd /content/drive/My\\ Drive/[MY PATH] ###\n",
        "'''"
      ]
    },
    {
      "cell_type": "code",
      "execution_count": 2,
      "metadata": {
        "id": "rjUKWdVD_Eqh"
      },
      "outputs": [],
      "source": [
        "import numpy as np\n",
        "import pandas as pd\n",
        "from scipy import stats as sps\n",
        "from matplotlib import pyplot as plt\n",
        "from mpl_toolkits.mplot3d import Axes3D\n",
        "from IPython.display import display, Latex"
      ]
    },
    {
      "cell_type": "markdown",
      "metadata": {
        "id": "PeHo02TLz-hL"
      },
      "source": [
        "# **1. Feature Engineering for _Environmental Sensor Telemetry Data_**"
      ]
    },
    {
      "cell_type": "markdown",
      "metadata": {
        "id": "qmMHJttez-hM"
      },
      "source": [
        "## Problem 1.1"
      ]
    },
    {
      "cell_type": "code",
      "execution_count": 3,
      "metadata": {
        "id": "IgKSHxewsRdP"
      },
      "outputs": [
        {
          "data": {
            "text/html": [
              "<div>\n",
              "<style scoped>\n",
              "    .dataframe tbody tr th:only-of-type {\n",
              "        vertical-align: middle;\n",
              "    }\n",
              "\n",
              "    .dataframe tbody tr th {\n",
              "        vertical-align: top;\n",
              "    }\n",
              "\n",
              "    .dataframe thead th {\n",
              "        text-align: right;\n",
              "    }\n",
              "</style>\n",
              "<table border=\"1\" class=\"dataframe\">\n",
              "  <thead>\n",
              "    <tr style=\"text-align: right;\">\n",
              "      <th></th>\n",
              "      <th>ts</th>\n",
              "      <th>device</th>\n",
              "      <th>co</th>\n",
              "      <th>humidity</th>\n",
              "      <th>light</th>\n",
              "      <th>lpg</th>\n",
              "      <th>motion</th>\n",
              "      <th>smoke</th>\n",
              "      <th>temp</th>\n",
              "    </tr>\n",
              "  </thead>\n",
              "  <tbody>\n",
              "    <tr>\n",
              "      <th>0</th>\n",
              "      <td>1.594512e+09</td>\n",
              "      <td>b8:27:eb:bf:9d:51</td>\n",
              "      <td>0.004956</td>\n",
              "      <td>51.000000</td>\n",
              "      <td>False</td>\n",
              "      <td>0.007651</td>\n",
              "      <td>False</td>\n",
              "      <td>0.020411</td>\n",
              "      <td>22.700000</td>\n",
              "    </tr>\n",
              "    <tr>\n",
              "      <th>1</th>\n",
              "      <td>1.594512e+09</td>\n",
              "      <td>00:0f:00:70:91:0a</td>\n",
              "      <td>0.002840</td>\n",
              "      <td>76.000000</td>\n",
              "      <td>False</td>\n",
              "      <td>0.005114</td>\n",
              "      <td>False</td>\n",
              "      <td>0.013275</td>\n",
              "      <td>19.700001</td>\n",
              "    </tr>\n",
              "    <tr>\n",
              "      <th>2</th>\n",
              "      <td>1.594512e+09</td>\n",
              "      <td>b8:27:eb:bf:9d:51</td>\n",
              "      <td>0.004976</td>\n",
              "      <td>50.900000</td>\n",
              "      <td>False</td>\n",
              "      <td>0.007673</td>\n",
              "      <td>False</td>\n",
              "      <td>0.020475</td>\n",
              "      <td>22.600000</td>\n",
              "    </tr>\n",
              "    <tr>\n",
              "      <th>3</th>\n",
              "      <td>1.594512e+09</td>\n",
              "      <td>1c:bf:ce:15:ec:4d</td>\n",
              "      <td>0.004403</td>\n",
              "      <td>76.800003</td>\n",
              "      <td>True</td>\n",
              "      <td>0.007023</td>\n",
              "      <td>False</td>\n",
              "      <td>0.018628</td>\n",
              "      <td>27.000000</td>\n",
              "    </tr>\n",
              "    <tr>\n",
              "      <th>4</th>\n",
              "      <td>1.594512e+09</td>\n",
              "      <td>b8:27:eb:bf:9d:51</td>\n",
              "      <td>0.004967</td>\n",
              "      <td>50.900000</td>\n",
              "      <td>False</td>\n",
              "      <td>0.007664</td>\n",
              "      <td>False</td>\n",
              "      <td>0.020448</td>\n",
              "      <td>22.600000</td>\n",
              "    </tr>\n",
              "  </tbody>\n",
              "</table>\n",
              "</div>"
            ],
            "text/plain": [
              "             ts             device        co   humidity  light       lpg  \\\n",
              "0  1.594512e+09  b8:27:eb:bf:9d:51  0.004956  51.000000  False  0.007651   \n",
              "1  1.594512e+09  00:0f:00:70:91:0a  0.002840  76.000000  False  0.005114   \n",
              "2  1.594512e+09  b8:27:eb:bf:9d:51  0.004976  50.900000  False  0.007673   \n",
              "3  1.594512e+09  1c:bf:ce:15:ec:4d  0.004403  76.800003   True  0.007023   \n",
              "4  1.594512e+09  b8:27:eb:bf:9d:51  0.004967  50.900000  False  0.007664   \n",
              "\n",
              "   motion     smoke       temp  \n",
              "0   False  0.020411  22.700000  \n",
              "1   False  0.013275  19.700001  \n",
              "2   False  0.020475  22.600000  \n",
              "3   False  0.018628  27.000000  \n",
              "4   False  0.020448  22.600000  "
            ]
          },
          "execution_count": 3,
          "metadata": {},
          "output_type": "execute_result"
        }
      ],
      "source": [
        "telemetry = pd.read_csv('Data/iot_telemetry_dataset.csv')\n",
        "telemetry.head()"
      ]
    },
    {
      "cell_type": "markdown",
      "metadata": {
        "id": "EKQZRr9Dz-hN"
      },
      "source": [
        "### (a)"
      ]
    },
    {
      "cell_type": "markdown",
      "metadata": {
        "id": "9eH6uWf4z-hN"
      },
      "source": [
        "The learning task is unsupervised because there is not specific output associated with each datapoint in the set. All of the variables in the dataset are independent variables that don't rely on the other variables. Because there is no specified output, it can be stated that the learning task is unsupervised. It is possible to model the data as supervised by isolating a variable and assuming it to be an output, as some of the codebases do that use this dataset, however since there is no clear output in the data itself, the data leads towards unsupervised."
      ]
    },
    {
      "cell_type": "markdown",
      "metadata": {
        "id": "77c-6U-_z-hO"
      },
      "source": [
        "### (b)"
      ]
    },
    {
      "cell_type": "code",
      "execution_count": 4,
      "metadata": {
        "id": "530SUQVjz-hP"
      },
      "outputs": [
        {
          "name": "stdout",
          "output_type": "stream",
          "text": [
            "405184\n"
          ]
        }
      ],
      "source": [
        "print(telemetry.shape[0])"
      ]
    },
    {
      "cell_type": "markdown",
      "metadata": {
        "id": "_tMu1LVSz-hQ"
      },
      "source": [
        "### (c)\n",
        "\n"
      ]
    },
    {
      "cell_type": "code",
      "execution_count": 5,
      "metadata": {
        "id": "1D7twXbHz-hR"
      },
      "outputs": [
        {
          "name": "stdout",
          "output_type": "stream",
          "text": [
            "111815\n"
          ]
        }
      ],
      "source": [
        "print(telemetry[telemetry['device'] == '00:0f:00:70:91:0a'].shape[0])"
      ]
    },
    {
      "cell_type": "markdown",
      "metadata": {
        "id": "kUKa9J6dz-hR"
      },
      "source": [
        "\n",
        "### (d)"
      ]
    },
    {
      "cell_type": "code",
      "execution_count": 6,
      "metadata": {
        "id": "2xNG_h3wz-hS"
      },
      "outputs": [
        {
          "name": "stdout",
          "output_type": "stream",
          "text": [
            "105918\n"
          ]
        }
      ],
      "source": [
        "print(telemetry[telemetry['device'] == '1c:bf:ce:15:ec:4d'].shape[0])"
      ]
    },
    {
      "cell_type": "markdown",
      "metadata": {
        "id": "Jy00M5wcz-hS"
      },
      "source": [
        "### (e)"
      ]
    },
    {
      "cell_type": "code",
      "execution_count": 7,
      "metadata": {
        "id": "cvCXExa7TaTa"
      },
      "outputs": [
        {
          "name": "stdout",
          "output_type": "stream",
          "text": [
            "187451\n"
          ]
        }
      ],
      "source": [
        "print(telemetry[telemetry['device'] == 'b8:27:eb:bf:9d:51'].shape[0])"
      ]
    },
    {
      "cell_type": "markdown",
      "metadata": {
        "id": "nOJPywDYz-hT"
      },
      "source": [
        "## Problem 1.2"
      ]
    },
    {
      "cell_type": "markdown",
      "metadata": {
        "id": "UTf6Yiqjz-hT"
      },
      "source": [
        "### (a)"
      ]
    },
    {
      "cell_type": "code",
      "execution_count": 8,
      "metadata": {
        "id": "qOPVMIawz-hU"
      },
      "outputs": [
        {
          "data": {
            "image/png": "[encoded data removed]",
            "text/plain": [
              "<Figure size 1400x600 with 2 Axes>"
            ]
          },
          "metadata": {},
          "output_type": "display_data"
        }
      ],
      "source": [
        "devices = ('00:0f:00:70:91:0a', '1c:bf:ce:15:ec:4d', 'b8:27:eb:bf:9d:51')\n",
        "telemetry_columns = [col for col in telemetry.columns if col not in ['ts', 'device', 'light', 'motion']]\n",
        "\n",
        "means_0 = telemetry.loc[telemetry['device'] == devices[0], telemetry_columns].mean()\n",
        "means_1 = telemetry.loc[telemetry['device'] == devices[1], telemetry_columns].mean()\n",
        "means_2 = telemetry.loc[telemetry['device'] == devices[2], telemetry_columns].mean()\n",
        "\n",
        "std_0 = telemetry.loc[telemetry['device'] == devices[0], telemetry_columns].var()\n",
        "std_1 = telemetry.loc[telemetry['device'] == devices[1], telemetry_columns].var()\n",
        "std_2 = telemetry.loc[telemetry['device'] == devices[2], telemetry_columns].var()\n",
        "\n",
        "means_df = pd.DataFrame({\n",
        "    '00:0f:00:70:91:0a': means_0,\n",
        "    '1c:bf:ce:15:ec:4d': means_1,\n",
        "    'b8:27:eb:bf:9d:51': means_2\n",
        "}).T\n",
        "\n",
        "std_df = pd.DataFrame({\n",
        "    '00:0f:00:70:91:0a': std_0,\n",
        "    '1c:bf:ce:15:ec:4d': std_1,\n",
        "    'b8:27:eb:bf:9d:51': std_2\n",
        "}).T\n",
        "\n",
        "fig, ax = plt.subplots(1, 2, figsize=(14, 6))\n",
        "\n",
        "means_df.plot(kind='bar', ax=ax[0], legend=True)\n",
        "ax[0].set_title('Means of Telemetry Data by Device')\n",
        "ax[0].set_ylabel('Mean Value')\n",
        "ax[0].set_xlabel('Devices')\n",
        "ax[0].legend(title='Telemetry Variables')\n",
        "ax[0].set_yscale('log')\n",
        "\n",
        "std_df.plot(kind='bar', ax=ax[1], legend=True)\n",
        "ax[1].set_title('Variance of Telemetry Data by Device')\n",
        "ax[1].set_ylabel('Variance')\n",
        "ax[1].set_xlabel('Devices')\n",
        "ax[1].legend(title='Telemetry Variables')\n",
        "ax[1].set_yscale('log')\n",
        "plt.tight_layout()\n",
        "plt.show()\n",
        "means_df = means_df.T\n",
        "std_df = std_df.T\n"
      ]
    },
    {
      "cell_type": "markdown",
      "metadata": {
        "id": "baOjUglyTzY9"
      },
      "source": [
        "One observation to note is that the variance on device 1c:bf:ce:15:ec:4d is much higher compared to the others for humidity and temperature. Another thing to note is that the variance of co, lpg, and smoke were all lowest on device 1c:bf:ce:15:ec:4d, indivating that those variables were much more consistent in that location. Another thing to notice is that although there were varying differences between the 3 device means, the means themselves seem to be a lot more consistent accross devices than the standard deviations. Another observation is that device 00:0f:00:70:91:0a had the opposite observations with variance. The humidity and temperature had a similar variance to that of device b8:27:eb:bf:9d:51, but had the highest variance in co, lpg, and smoke. "
      ]
    },
    {
      "cell_type": "markdown",
      "metadata": {
        "id": "CrZQxH5hz-hU"
      },
      "source": [
        "### (b)"
      ]
    },
    {
      "cell_type": "code",
      "execution_count": 9,
      "metadata": {
        "id": "ESSjRnLCz-hU"
      },
      "outputs": [
        {
          "data": {
            "text/html": [
              "<div>\n",
              "<style scoped>\n",
              "    .dataframe tbody tr th:only-of-type {\n",
              "        vertical-align: middle;\n",
              "    }\n",
              "\n",
              "    .dataframe tbody tr th {\n",
              "        vertical-align: top;\n",
              "    }\n",
              "\n",
              "    .dataframe thead th {\n",
              "        text-align: right;\n",
              "    }\n",
              "</style>\n",
              "<table border=\"1\" class=\"dataframe\">\n",
              "  <thead>\n",
              "    <tr style=\"text-align: right;\">\n",
              "      <th></th>\n",
              "      <th>ts</th>\n",
              "      <th>device</th>\n",
              "      <th>co</th>\n",
              "      <th>humidity</th>\n",
              "      <th>light</th>\n",
              "      <th>lpg</th>\n",
              "      <th>motion</th>\n",
              "      <th>smoke</th>\n",
              "      <th>temp</th>\n",
              "    </tr>\n",
              "  </thead>\n",
              "  <tbody>\n",
              "    <tr>\n",
              "      <th>0</th>\n",
              "      <td>1.594512e+09</td>\n",
              "      <td>b8:27:eb:bf:9d:51</td>\n",
              "      <td>-1.080793</td>\n",
              "      <td>0.098428</td>\n",
              "      <td>False</td>\n",
              "      <td>-1.093491</td>\n",
              "      <td>False</td>\n",
              "      <td>-1.091260</td>\n",
              "      <td>0.871610</td>\n",
              "    </tr>\n",
              "    <tr>\n",
              "      <th>1</th>\n",
              "      <td>1.594512e+09</td>\n",
              "      <td>00:0f:00:70:91:0a</td>\n",
              "      <td>-0.464451</td>\n",
              "      <td>0.281222</td>\n",
              "      <td>False</td>\n",
              "      <td>-0.458333</td>\n",
              "      <td>False</td>\n",
              "      <td>-0.460392</td>\n",
              "      <td>0.524162</td>\n",
              "    </tr>\n",
              "    <tr>\n",
              "      <th>2</th>\n",
              "      <td>1.594512e+09</td>\n",
              "      <td>b8:27:eb:bf:9d:51</td>\n",
              "      <td>-1.044864</td>\n",
              "      <td>0.045488</td>\n",
              "      <td>False</td>\n",
              "      <td>-1.056107</td>\n",
              "      <td>False</td>\n",
              "      <td>-1.054137</td>\n",
              "      <td>0.664099</td>\n",
              "    </tr>\n",
              "    <tr>\n",
              "      <th>3</th>\n",
              "      <td>1.594512e+09</td>\n",
              "      <td>1c:bf:ce:15:ec:4d</td>\n",
              "      <td>0.687051</td>\n",
              "      <td>1.664629</td>\n",
              "      <td>True</td>\n",
              "      <td>0.696248</td>\n",
              "      <td>False</td>\n",
              "      <td>0.694633</td>\n",
              "      <td>0.480890</td>\n",
              "    </tr>\n",
              "    <tr>\n",
              "      <th>4</th>\n",
              "      <td>1.594512e+09</td>\n",
              "      <td>b8:27:eb:bf:9d:51</td>\n",
              "      <td>-1.060344</td>\n",
              "      <td>0.045488</td>\n",
              "      <td>False</td>\n",
              "      <td>-1.072209</td>\n",
              "      <td>False</td>\n",
              "      <td>-1.070127</td>\n",
              "      <td>0.664099</td>\n",
              "    </tr>\n",
              "    <tr>\n",
              "      <th>5</th>\n",
              "      <td>1.594512e+09</td>\n",
              "      <td>1c:bf:ce:15:ec:4d</td>\n",
              "      <td>0.649527</td>\n",
              "      <td>1.787605</td>\n",
              "      <td>True</td>\n",
              "      <td>0.659043</td>\n",
              "      <td>False</td>\n",
              "      <td>0.657370</td>\n",
              "      <td>0.480890</td>\n",
              "    </tr>\n",
              "    <tr>\n",
              "      <th>6</th>\n",
              "      <td>1.594512e+09</td>\n",
              "      <td>b8:27:eb:bf:9d:51</td>\n",
              "      <td>-1.044841</td>\n",
              "      <td>0.045488</td>\n",
              "      <td>False</td>\n",
              "      <td>-1.056083</td>\n",
              "      <td>False</td>\n",
              "      <td>-1.054113</td>\n",
              "      <td>0.664099</td>\n",
              "    </tr>\n",
              "    <tr>\n",
              "      <th>7</th>\n",
              "      <td>1.594512e+09</td>\n",
              "      <td>00:0f:00:70:91:0a</td>\n",
              "      <td>-0.398156</td>\n",
              "      <td>0.281222</td>\n",
              "      <td>False</td>\n",
              "      <td>-0.383561</td>\n",
              "      <td>False</td>\n",
              "      <td>-0.387058</td>\n",
              "      <td>0.524162</td>\n",
              "    </tr>\n",
              "    <tr>\n",
              "      <th>8</th>\n",
              "      <td>1.594512e+09</td>\n",
              "      <td>1c:bf:ce:15:ec:4d</td>\n",
              "      <td>0.507419</td>\n",
              "      <td>1.787605</td>\n",
              "      <td>True</td>\n",
              "      <td>0.517887</td>\n",
              "      <td>False</td>\n",
              "      <td>0.516039</td>\n",
              "      <td>0.480890</td>\n",
              "    </tr>\n",
              "    <tr>\n",
              "      <th>9</th>\n",
              "      <td>1.594512e+09</td>\n",
              "      <td>b8:27:eb:bf:9d:51</td>\n",
              "      <td>-1.055167</td>\n",
              "      <td>0.045488</td>\n",
              "      <td>False</td>\n",
              "      <td>-1.066824</td>\n",
              "      <td>False</td>\n",
              "      <td>-1.064779</td>\n",
              "      <td>0.664099</td>\n",
              "    </tr>\n",
              "  </tbody>\n",
              "</table>\n",
              "</div>"
            ],
            "text/plain": [
              "             ts             device        co  humidity  light       lpg  \\\n",
              "0  1.594512e+09  b8:27:eb:bf:9d:51 -1.080793  0.098428  False -1.093491   \n",
              "1  1.594512e+09  00:0f:00:70:91:0a -0.464451  0.281222  False -0.458333   \n",
              "2  1.594512e+09  b8:27:eb:bf:9d:51 -1.044864  0.045488  False -1.056107   \n",
              "3  1.594512e+09  1c:bf:ce:15:ec:4d  0.687051  1.664629   True  0.696248   \n",
              "4  1.594512e+09  b8:27:eb:bf:9d:51 -1.060344  0.045488  False -1.072209   \n",
              "5  1.594512e+09  1c:bf:ce:15:ec:4d  0.649527  1.787605   True  0.659043   \n",
              "6  1.594512e+09  b8:27:eb:bf:9d:51 -1.044841  0.045488  False -1.056083   \n",
              "7  1.594512e+09  00:0f:00:70:91:0a -0.398156  0.281222  False -0.383561   \n",
              "8  1.594512e+09  1c:bf:ce:15:ec:4d  0.507419  1.787605   True  0.517887   \n",
              "9  1.594512e+09  b8:27:eb:bf:9d:51 -1.055167  0.045488  False -1.066824   \n",
              "\n",
              "   motion     smoke      temp  \n",
              "0   False -1.091260  0.871610  \n",
              "1   False -0.460392  0.524162  \n",
              "2   False -1.054137  0.664099  \n",
              "3   False  0.694633  0.480890  \n",
              "4   False -1.070127  0.664099  \n",
              "5   False  0.657370  0.480890  \n",
              "6   False -1.054113  0.664099  \n",
              "7   False -0.387058  0.524162  \n",
              "8   False  0.516039  0.480890  \n",
              "9   False -1.064779  0.664099  "
            ]
          },
          "execution_count": 9,
          "metadata": {},
          "output_type": "execute_result"
        }
      ],
      "source": [
        "for device in devices:\n",
        "    for col in telemetry_columns:\n",
        "        telemetry.loc[telemetry['device'] == device, col] = (telemetry.loc[telemetry['device'] == device, col]-means_df[device][col])/std_df[device][col]**(1/2)\n",
        "telemetry.head(10)"
      ]
    },
    {
      "cell_type": "markdown",
      "metadata": {
        "id": "hWh95Fiyz-hU"
      },
      "source": [
        "\n",
        "### (c)"
      ]
    },
    {
      "cell_type": "code",
      "execution_count": 10,
      "metadata": {
        "id": "VZ9EtxC-z-hV"
      },
      "outputs": [],
      "source": [
        "telemetry = pd.get_dummies(telemetry, columns=['device', 'light', 'motion'], prefix=['DEVICE', 'LIGHT', 'MOTION'])"
      ]
    },
    {
      "cell_type": "markdown",
      "metadata": {
        "id": "3IuMCu6vUBgz"
      },
      "source": [
        "### (d)"
      ]
    },
    {
      "cell_type": "code",
      "execution_count": 11,
      "metadata": {
        "id": "z8UHdRe1UCLr"
      },
      "outputs": [
        {
          "data": {
            "text/html": [
              "<div>\n",
              "<style scoped>\n",
              "    .dataframe tbody tr th:only-of-type {\n",
              "        vertical-align: middle;\n",
              "    }\n",
              "\n",
              "    .dataframe tbody tr th {\n",
              "        vertical-align: top;\n",
              "    }\n",
              "\n",
              "    .dataframe thead th {\n",
              "        text-align: right;\n",
              "    }\n",
              "</style>\n",
              "<table border=\"1\" class=\"dataframe\">\n",
              "  <thead>\n",
              "    <tr style=\"text-align: right;\">\n",
              "      <th></th>\n",
              "      <th>ts</th>\n",
              "      <th>co</th>\n",
              "      <th>humidity</th>\n",
              "      <th>lpg</th>\n",
              "      <th>smoke</th>\n",
              "      <th>temp</th>\n",
              "      <th>DEVICE_00:0f:00:70:91:0a</th>\n",
              "      <th>DEVICE_1c:bf:ce:15:ec:4d</th>\n",
              "      <th>DEVICE_b8:27:eb:bf:9d:51</th>\n",
              "      <th>LIGHT_False</th>\n",
              "      <th>LIGHT_True</th>\n",
              "      <th>MOTION_False</th>\n",
              "      <th>MOTION_True</th>\n",
              "    </tr>\n",
              "  </thead>\n",
              "  <tbody>\n",
              "    <tr>\n",
              "      <th>0</th>\n",
              "      <td>1.594512e+09</td>\n",
              "      <td>-1.080793</td>\n",
              "      <td>0.098428</td>\n",
              "      <td>-1.093491</td>\n",
              "      <td>-1.091260</td>\n",
              "      <td>0.871610</td>\n",
              "      <td>False</td>\n",
              "      <td>False</td>\n",
              "      <td>True</td>\n",
              "      <td>True</td>\n",
              "      <td>False</td>\n",
              "      <td>True</td>\n",
              "      <td>False</td>\n",
              "    </tr>\n",
              "    <tr>\n",
              "      <th>1</th>\n",
              "      <td>1.594512e+09</td>\n",
              "      <td>-0.464451</td>\n",
              "      <td>0.281222</td>\n",
              "      <td>-0.458333</td>\n",
              "      <td>-0.460392</td>\n",
              "      <td>0.524162</td>\n",
              "      <td>True</td>\n",
              "      <td>False</td>\n",
              "      <td>False</td>\n",
              "      <td>True</td>\n",
              "      <td>False</td>\n",
              "      <td>True</td>\n",
              "      <td>False</td>\n",
              "    </tr>\n",
              "    <tr>\n",
              "      <th>2</th>\n",
              "      <td>1.594512e+09</td>\n",
              "      <td>-1.044864</td>\n",
              "      <td>0.045488</td>\n",
              "      <td>-1.056107</td>\n",
              "      <td>-1.054137</td>\n",
              "      <td>0.664099</td>\n",
              "      <td>False</td>\n",
              "      <td>False</td>\n",
              "      <td>True</td>\n",
              "      <td>True</td>\n",
              "      <td>False</td>\n",
              "      <td>True</td>\n",
              "      <td>False</td>\n",
              "    </tr>\n",
              "    <tr>\n",
              "      <th>3</th>\n",
              "      <td>1.594512e+09</td>\n",
              "      <td>0.687051</td>\n",
              "      <td>1.664629</td>\n",
              "      <td>0.696248</td>\n",
              "      <td>0.694633</td>\n",
              "      <td>0.480890</td>\n",
              "      <td>False</td>\n",
              "      <td>True</td>\n",
              "      <td>False</td>\n",
              "      <td>False</td>\n",
              "      <td>True</td>\n",
              "      <td>True</td>\n",
              "      <td>False</td>\n",
              "    </tr>\n",
              "    <tr>\n",
              "      <th>4</th>\n",
              "      <td>1.594512e+09</td>\n",
              "      <td>-1.060344</td>\n",
              "      <td>0.045488</td>\n",
              "      <td>-1.072209</td>\n",
              "      <td>-1.070127</td>\n",
              "      <td>0.664099</td>\n",
              "      <td>False</td>\n",
              "      <td>False</td>\n",
              "      <td>True</td>\n",
              "      <td>True</td>\n",
              "      <td>False</td>\n",
              "      <td>True</td>\n",
              "      <td>False</td>\n",
              "    </tr>\n",
              "    <tr>\n",
              "      <th>5</th>\n",
              "      <td>1.594512e+09</td>\n",
              "      <td>0.649527</td>\n",
              "      <td>1.787605</td>\n",
              "      <td>0.659043</td>\n",
              "      <td>0.657370</td>\n",
              "      <td>0.480890</td>\n",
              "      <td>False</td>\n",
              "      <td>True</td>\n",
              "      <td>False</td>\n",
              "      <td>False</td>\n",
              "      <td>True</td>\n",
              "      <td>True</td>\n",
              "      <td>False</td>\n",
              "    </tr>\n",
              "    <tr>\n",
              "      <th>6</th>\n",
              "      <td>1.594512e+09</td>\n",
              "      <td>-1.044841</td>\n",
              "      <td>0.045488</td>\n",
              "      <td>-1.056083</td>\n",
              "      <td>-1.054113</td>\n",
              "      <td>0.664099</td>\n",
              "      <td>False</td>\n",
              "      <td>False</td>\n",
              "      <td>True</td>\n",
              "      <td>True</td>\n",
              "      <td>False</td>\n",
              "      <td>True</td>\n",
              "      <td>False</td>\n",
              "    </tr>\n",
              "    <tr>\n",
              "      <th>7</th>\n",
              "      <td>1.594512e+09</td>\n",
              "      <td>-0.398156</td>\n",
              "      <td>0.281222</td>\n",
              "      <td>-0.383561</td>\n",
              "      <td>-0.387058</td>\n",
              "      <td>0.524162</td>\n",
              "      <td>True</td>\n",
              "      <td>False</td>\n",
              "      <td>False</td>\n",
              "      <td>True</td>\n",
              "      <td>False</td>\n",
              "      <td>True</td>\n",
              "      <td>False</td>\n",
              "    </tr>\n",
              "    <tr>\n",
              "      <th>8</th>\n",
              "      <td>1.594512e+09</td>\n",
              "      <td>0.507419</td>\n",
              "      <td>1.787605</td>\n",
              "      <td>0.517887</td>\n",
              "      <td>0.516039</td>\n",
              "      <td>0.480890</td>\n",
              "      <td>False</td>\n",
              "      <td>True</td>\n",
              "      <td>False</td>\n",
              "      <td>False</td>\n",
              "      <td>True</td>\n",
              "      <td>True</td>\n",
              "      <td>False</td>\n",
              "    </tr>\n",
              "    <tr>\n",
              "      <th>9</th>\n",
              "      <td>1.594512e+09</td>\n",
              "      <td>-1.055167</td>\n",
              "      <td>0.045488</td>\n",
              "      <td>-1.066824</td>\n",
              "      <td>-1.064779</td>\n",
              "      <td>0.664099</td>\n",
              "      <td>False</td>\n",
              "      <td>False</td>\n",
              "      <td>True</td>\n",
              "      <td>True</td>\n",
              "      <td>False</td>\n",
              "      <td>True</td>\n",
              "      <td>False</td>\n",
              "    </tr>\n",
              "    <tr>\n",
              "      <th>10</th>\n",
              "      <td>1.594512e+09</td>\n",
              "      <td>-1.073150</td>\n",
              "      <td>0.045488</td>\n",
              "      <td>-1.085536</td>\n",
              "      <td>-1.083360</td>\n",
              "      <td>0.664099</td>\n",
              "      <td>False</td>\n",
              "      <td>False</td>\n",
              "      <td>True</td>\n",
              "      <td>True</td>\n",
              "      <td>False</td>\n",
              "      <td>True</td>\n",
              "      <td>False</td>\n",
              "    </tr>\n",
              "    <tr>\n",
              "      <th>11</th>\n",
              "      <td>1.594512e+09</td>\n",
              "      <td>0.624684</td>\n",
              "      <td>1.798784</td>\n",
              "      <td>0.634395</td>\n",
              "      <td>0.632686</td>\n",
              "      <td>0.480890</td>\n",
              "      <td>False</td>\n",
              "      <td>True</td>\n",
              "      <td>False</td>\n",
              "      <td>False</td>\n",
              "      <td>True</td>\n",
              "      <td>True</td>\n",
              "      <td>False</td>\n",
              "    </tr>\n",
              "    <tr>\n",
              "      <th>12</th>\n",
              "      <td>1.594512e+09</td>\n",
              "      <td>-1.052681</td>\n",
              "      <td>0.045488</td>\n",
              "      <td>-1.064237</td>\n",
              "      <td>-1.062210</td>\n",
              "      <td>0.664099</td>\n",
              "      <td>False</td>\n",
              "      <td>False</td>\n",
              "      <td>True</td>\n",
              "      <td>True</td>\n",
              "      <td>False</td>\n",
              "      <td>True</td>\n",
              "      <td>False</td>\n",
              "    </tr>\n",
              "    <tr>\n",
              "      <th>13</th>\n",
              "      <td>1.594512e+09</td>\n",
              "      <td>0.838329</td>\n",
              "      <td>1.798784</td>\n",
              "      <td>0.845955</td>\n",
              "      <td>0.844626</td>\n",
              "      <td>0.480890</td>\n",
              "      <td>False</td>\n",
              "      <td>True</td>\n",
              "      <td>False</td>\n",
              "      <td>False</td>\n",
              "      <td>True</td>\n",
              "      <td>True</td>\n",
              "      <td>False</td>\n",
              "    </tr>\n",
              "    <tr>\n",
              "      <th>14</th>\n",
              "      <td>1.594512e+09</td>\n",
              "      <td>-1.065354</td>\n",
              "      <td>0.045488</td>\n",
              "      <td>-1.077422</td>\n",
              "      <td>-1.075303</td>\n",
              "      <td>0.664099</td>\n",
              "      <td>False</td>\n",
              "      <td>False</td>\n",
              "      <td>True</td>\n",
              "      <td>True</td>\n",
              "      <td>False</td>\n",
              "      <td>True</td>\n",
              "      <td>False</td>\n",
              "    </tr>\n",
              "    <tr>\n",
              "      <th>15</th>\n",
              "      <td>1.594512e+09</td>\n",
              "      <td>-0.420542</td>\n",
              "      <td>0.179999</td>\n",
              "      <td>-0.408731</td>\n",
              "      <td>-0.411758</td>\n",
              "      <td>0.524162</td>\n",
              "      <td>True</td>\n",
              "      <td>False</td>\n",
              "      <td>False</td>\n",
              "      <td>True</td>\n",
              "      <td>False</td>\n",
              "      <td>True</td>\n",
              "      <td>False</td>\n",
              "    </tr>\n",
              "    <tr>\n",
              "      <th>16</th>\n",
              "      <td>1.594512e+09</td>\n",
              "      <td>-1.044916</td>\n",
              "      <td>0.045488</td>\n",
              "      <td>-1.056161</td>\n",
              "      <td>-1.054190</td>\n",
              "      <td>0.664099</td>\n",
              "      <td>False</td>\n",
              "      <td>False</td>\n",
              "      <td>True</td>\n",
              "      <td>True</td>\n",
              "      <td>False</td>\n",
              "      <td>True</td>\n",
              "      <td>False</td>\n",
              "    </tr>\n",
              "    <tr>\n",
              "      <th>17</th>\n",
              "      <td>1.594512e+09</td>\n",
              "      <td>-1.073150</td>\n",
              "      <td>0.045488</td>\n",
              "      <td>-1.085536</td>\n",
              "      <td>-1.083360</td>\n",
              "      <td>0.664099</td>\n",
              "      <td>False</td>\n",
              "      <td>False</td>\n",
              "      <td>True</td>\n",
              "      <td>True</td>\n",
              "      <td>False</td>\n",
              "      <td>True</td>\n",
              "      <td>False</td>\n",
              "    </tr>\n",
              "    <tr>\n",
              "      <th>18</th>\n",
              "      <td>1.594512e+09</td>\n",
              "      <td>0.800331</td>\n",
              "      <td>1.787605</td>\n",
              "      <td>0.808395</td>\n",
              "      <td>0.806986</td>\n",
              "      <td>0.480890</td>\n",
              "      <td>False</td>\n",
              "      <td>True</td>\n",
              "      <td>False</td>\n",
              "      <td>False</td>\n",
              "      <td>True</td>\n",
              "      <td>True</td>\n",
              "      <td>False</td>\n",
              "    </tr>\n",
              "    <tr>\n",
              "      <th>19</th>\n",
              "      <td>1.594512e+09</td>\n",
              "      <td>-1.080470</td>\n",
              "      <td>0.045488</td>\n",
              "      <td>-1.093155</td>\n",
              "      <td>-1.090925</td>\n",
              "      <td>0.664099</td>\n",
              "      <td>False</td>\n",
              "      <td>False</td>\n",
              "      <td>True</td>\n",
              "      <td>True</td>\n",
              "      <td>False</td>\n",
              "      <td>True</td>\n",
              "      <td>False</td>\n",
              "    </tr>\n",
              "  </tbody>\n",
              "</table>\n",
              "</div>"
            ],
            "text/plain": [
              "              ts        co  humidity       lpg     smoke      temp  \\\n",
              "0   1.594512e+09 -1.080793  0.098428 -1.093491 -1.091260  0.871610   \n",
              "1   1.594512e+09 -0.464451  0.281222 -0.458333 -0.460392  0.524162   \n",
              "2   1.594512e+09 -1.044864  0.045488 -1.056107 -1.054137  0.664099   \n",
              "3   1.594512e+09  0.687051  1.664629  0.696248  0.694633  0.480890   \n",
              "4   1.594512e+09 -1.060344  0.045488 -1.072209 -1.070127  0.664099   \n",
              "5   1.594512e+09  0.649527  1.787605  0.659043  0.657370  0.480890   \n",
              "6   1.594512e+09 -1.044841  0.045488 -1.056083 -1.054113  0.664099   \n",
              "7   1.594512e+09 -0.398156  0.281222 -0.383561 -0.387058  0.524162   \n",
              "8   1.594512e+09  0.507419  1.787605  0.517887  0.516039  0.480890   \n",
              "9   1.594512e+09 -1.055167  0.045488 -1.066824 -1.064779  0.664099   \n",
              "10  1.594512e+09 -1.073150  0.045488 -1.085536 -1.083360  0.664099   \n",
              "11  1.594512e+09  0.624684  1.798784  0.634395  0.632686  0.480890   \n",
              "12  1.594512e+09 -1.052681  0.045488 -1.064237 -1.062210  0.664099   \n",
              "13  1.594512e+09  0.838329  1.798784  0.845955  0.844626  0.480890   \n",
              "14  1.594512e+09 -1.065354  0.045488 -1.077422 -1.075303  0.664099   \n",
              "15  1.594512e+09 -0.420542  0.179999 -0.408731 -0.411758  0.524162   \n",
              "16  1.594512e+09 -1.044916  0.045488 -1.056161 -1.054190  0.664099   \n",
              "17  1.594512e+09 -1.073150  0.045488 -1.085536 -1.083360  0.664099   \n",
              "18  1.594512e+09  0.800331  1.787605  0.808395  0.806986  0.480890   \n",
              "19  1.594512e+09 -1.080470  0.045488 -1.093155 -1.090925  0.664099   \n",
              "\n",
              "    DEVICE_00:0f:00:70:91:0a  DEVICE_1c:bf:ce:15:ec:4d  \\\n",
              "0                      False                     False   \n",
              "1                       True                     False   \n",
              "2                      False                     False   \n",
              "3                      False                      True   \n",
              "4                      False                     False   \n",
              "5                      False                      True   \n",
              "6                      False                     False   \n",
              "7                       True                     False   \n",
              "8                      False                      True   \n",
              "9                      False                     False   \n",
              "10                     False                     False   \n",
              "11                     False                      True   \n",
              "12                     False                     False   \n",
              "13                     False                      True   \n",
              "14                     False                     False   \n",
              "15                      True                     False   \n",
              "16                     False                     False   \n",
              "17                     False                     False   \n",
              "18                     False                      True   \n",
              "19                     False                     False   \n",
              "\n",
              "    DEVICE_b8:27:eb:bf:9d:51  LIGHT_False  LIGHT_True  MOTION_False  \\\n",
              "0                       True         True       False          True   \n",
              "1                      False         True       False          True   \n",
              "2                       True         True       False          True   \n",
              "3                      False        False        True          True   \n",
              "4                       True         True       False          True   \n",
              "5                      False        False        True          True   \n",
              "6                       True         True       False          True   \n",
              "7                      False         True       False          True   \n",
              "8                      False        False        True          True   \n",
              "9                       True         True       False          True   \n",
              "10                      True         True       False          True   \n",
              "11                     False        False        True          True   \n",
              "12                      True         True       False          True   \n",
              "13                     False        False        True          True   \n",
              "14                      True         True       False          True   \n",
              "15                     False         True       False          True   \n",
              "16                      True         True       False          True   \n",
              "17                      True         True       False          True   \n",
              "18                     False        False        True          True   \n",
              "19                      True         True       False          True   \n",
              "\n",
              "    MOTION_True  \n",
              "0         False  \n",
              "1         False  \n",
              "2         False  \n",
              "3         False  \n",
              "4         False  \n",
              "5         False  \n",
              "6         False  \n",
              "7         False  \n",
              "8         False  \n",
              "9         False  \n",
              "10        False  \n",
              "11        False  \n",
              "12        False  \n",
              "13        False  \n",
              "14        False  \n",
              "15        False  \n",
              "16        False  \n",
              "17        False  \n",
              "18        False  \n",
              "19        False  "
            ]
          },
          "execution_count": 11,
          "metadata": {},
          "output_type": "execute_result"
        }
      ],
      "source": [
        "telemetry.head(20)"
      ]
    },
    {
      "cell_type": "markdown",
      "metadata": {
        "id": "zsOtgiVCUEfc"
      },
      "source": [
        "### (e)"
      ]
    },
    {
      "cell_type": "markdown",
      "metadata": {
        "id": "DR3FGIldUEPN"
      },
      "source": [
        "The timestamp of the reading is simply an id that allows us to see what time is associated with the data. Because it is used more as an ID, it doesn't make sense to process it. Also, unless the time is going to be used to identify certain patterns, like seasonaly patterns, the timestamp itself does not give us any information about the data. Standardizing it would only overfit the model to the training data itself."
      ]
    },
    {
      "cell_type": "markdown",
      "metadata": {
        "id": "OYDjQvfFxnQw"
      },
      "source": [
        "## Problem 1.3"
      ]
    },
    {
      "cell_type": "code",
      "execution_count": 12,
      "metadata": {
        "id": "5YCLwVJuxrXG"
      },
      "outputs": [
        {
          "data": {
            "text/html": [
              "<div>\n",
              "<style scoped>\n",
              "    .dataframe tbody tr th:only-of-type {\n",
              "        vertical-align: middle;\n",
              "    }\n",
              "\n",
              "    .dataframe tbody tr th {\n",
              "        vertical-align: top;\n",
              "    }\n",
              "\n",
              "    .dataframe thead th {\n",
              "        text-align: right;\n",
              "    }\n",
              "</style>\n",
              "<table border=\"1\" class=\"dataframe\">\n",
              "  <thead>\n",
              "    <tr style=\"text-align: right;\">\n",
              "      <th></th>\n",
              "      <th>mean</th>\n",
              "      <th>gmean</th>\n",
              "      <th>hmean</th>\n",
              "      <th>variance</th>\n",
              "      <th>kurtosis</th>\n",
              "      <th>skew</th>\n",
              "    </tr>\n",
              "  </thead>\n",
              "  <tbody>\n",
              "    <tr>\n",
              "      <th>0</th>\n",
              "      <td>-0.459101</td>\n",
              "      <td>0.643851</td>\n",
              "      <td>0.355540</td>\n",
              "      <td>0.817552</td>\n",
              "      <td>-1.268521</td>\n",
              "      <td>0.673607</td>\n",
              "    </tr>\n",
              "    <tr>\n",
              "      <th>1</th>\n",
              "      <td>-0.115558</td>\n",
              "      <td>0.428502</td>\n",
              "      <td>0.417687</td>\n",
              "      <td>0.231202</td>\n",
              "      <td>-1.626008</td>\n",
              "      <td>0.504156</td>\n",
              "    </tr>\n",
              "    <tr>\n",
              "      <th>2</th>\n",
              "      <td>-0.489104</td>\n",
              "      <td>0.511869</td>\n",
              "      <td>0.189809</td>\n",
              "      <td>0.641322</td>\n",
              "      <td>-1.365727</td>\n",
              "      <td>0.626984</td>\n",
              "    </tr>\n",
              "    <tr>\n",
              "      <th>3</th>\n",
              "      <td>0.844690</td>\n",
              "      <td>0.767316</td>\n",
              "      <td>0.713105</td>\n",
              "      <td>0.218513</td>\n",
              "      <td>0.083334</td>\n",
              "      <td>1.347752</td>\n",
              "    </tr>\n",
              "    <tr>\n",
              "      <th>4</th>\n",
              "      <td>-0.498619</td>\n",
              "      <td>0.516485</td>\n",
              "      <td>0.190115</td>\n",
              "      <td>0.654782</td>\n",
              "      <td>-1.374738</td>\n",
              "      <td>0.622674</td>\n",
              "    </tr>\n",
              "    <tr>\n",
              "      <th>5</th>\n",
              "      <td>0.846887</td>\n",
              "      <td>0.752883</td>\n",
              "      <td>0.692806</td>\n",
              "      <td>0.282264</td>\n",
              "      <td>0.157954</td>\n",
              "      <td>1.420887</td>\n",
              "    </tr>\n",
              "    <tr>\n",
              "      <th>6</th>\n",
              "      <td>-0.489090</td>\n",
              "      <td>0.511862</td>\n",
              "      <td>0.189809</td>\n",
              "      <td>0.641303</td>\n",
              "      <td>-1.365713</td>\n",
              "      <td>0.626990</td>\n",
              "    </tr>\n",
              "    <tr>\n",
              "      <th>7</th>\n",
              "      <td>-0.072678</td>\n",
              "      <td>0.387290</td>\n",
              "      <td>0.379765</td>\n",
              "      <td>0.195721</td>\n",
              "      <td>-1.589427</td>\n",
              "      <td>0.520788</td>\n",
              "    </tr>\n",
              "    <tr>\n",
              "      <th>8</th>\n",
              "      <td>0.761968</td>\n",
              "      <td>0.650609</td>\n",
              "      <td>0.589734</td>\n",
              "      <td>0.328947</td>\n",
              "      <td>0.246717</td>\n",
              "      <td>1.497492</td>\n",
              "    </tr>\n",
              "    <tr>\n",
              "      <th>9</th>\n",
              "      <td>-0.495437</td>\n",
              "      <td>0.514944</td>\n",
              "      <td>0.190014</td>\n",
              "      <td>0.650264</td>\n",
              "      <td>-1.371752</td>\n",
              "      <td>0.624102</td>\n",
              "    </tr>\n",
              "    <tr>\n",
              "      <th>10</th>\n",
              "      <td>-0.506492</td>\n",
              "      <td>0.520285</td>\n",
              "      <td>0.190362</td>\n",
              "      <td>0.666034</td>\n",
              "      <td>-1.382010</td>\n",
              "      <td>0.619199</td>\n",
              "    </tr>\n",
              "    <tr>\n",
              "      <th>11</th>\n",
              "      <td>0.834288</td>\n",
              "      <td>0.736625</td>\n",
              "      <td>0.676308</td>\n",
              "      <td>0.294919</td>\n",
              "      <td>0.183826</td>\n",
              "      <td>1.444486</td>\n",
              "    </tr>\n",
              "    <tr>\n",
              "      <th>12</th>\n",
              "      <td>-0.493908</td>\n",
              "      <td>0.514203</td>\n",
              "      <td>0.189965</td>\n",
              "      <td>0.648100</td>\n",
              "      <td>-1.370308</td>\n",
              "      <td>0.624793</td>\n",
              "    </tr>\n",
              "    <tr>\n",
              "      <th>13</th>\n",
              "      <td>0.961717</td>\n",
              "      <td>0.876779</td>\n",
              "      <td>0.807193</td>\n",
              "      <td>0.243553</td>\n",
              "      <td>-0.128798</td>\n",
              "      <td>1.093696</td>\n",
              "    </tr>\n",
              "    <tr>\n",
              "      <th>14</th>\n",
              "      <td>-0.501698</td>\n",
              "      <td>0.517974</td>\n",
              "      <td>0.190212</td>\n",
              "      <td>0.659171</td>\n",
              "      <td>-1.377603</td>\n",
              "      <td>0.621305</td>\n",
              "    </tr>\n",
              "    <tr>\n",
              "      <th>15</th>\n",
              "      <td>-0.107374</td>\n",
              "      <td>0.367219</td>\n",
              "      <td>0.339755</td>\n",
              "      <td>0.190740</td>\n",
              "      <td>-1.347891</td>\n",
              "      <td>0.635259</td>\n",
              "    </tr>\n",
              "    <tr>\n",
              "      <th>16</th>\n",
              "      <td>-0.489136</td>\n",
              "      <td>0.511884</td>\n",
              "      <td>0.189810</td>\n",
              "      <td>0.641367</td>\n",
              "      <td>-1.365758</td>\n",
              "      <td>0.626969</td>\n",
              "    </tr>\n",
              "    <tr>\n",
              "      <th>17</th>\n",
              "      <td>-0.506492</td>\n",
              "      <td>0.520285</td>\n",
              "      <td>0.190362</td>\n",
              "      <td>0.666034</td>\n",
              "      <td>-1.382010</td>\n",
              "      <td>0.619199</td>\n",
              "    </tr>\n",
              "    <tr>\n",
              "      <th>18</th>\n",
              "      <td>0.936841</td>\n",
              "      <td>0.851952</td>\n",
              "      <td>0.785599</td>\n",
              "      <td>0.245922</td>\n",
              "      <td>-0.064982</td>\n",
              "      <td>1.178371</td>\n",
              "    </tr>\n",
              "    <tr>\n",
              "      <th>19</th>\n",
              "      <td>-0.510993</td>\n",
              "      <td>0.522449</td>\n",
              "      <td>0.190501</td>\n",
              "      <td>0.672513</td>\n",
              "      <td>-1.386094</td>\n",
              "      <td>0.617248</td>\n",
              "    </tr>\n",
              "    <tr>\n",
              "      <th>20</th>\n",
              "      <td>-0.092923</td>\n",
              "      <td>0.354226</td>\n",
              "      <td>0.329691</td>\n",
              "      <td>0.179858</td>\n",
              "      <td>-1.320541</td>\n",
              "      <td>0.648137</td>\n",
              "    </tr>\n",
              "    <tr>\n",
              "      <th>21</th>\n",
              "      <td>0.846887</td>\n",
              "      <td>0.752883</td>\n",
              "      <td>0.692806</td>\n",
              "      <td>0.282264</td>\n",
              "      <td>0.157954</td>\n",
              "      <td>1.420887</td>\n",
              "    </tr>\n",
              "    <tr>\n",
              "      <th>22</th>\n",
              "      <td>-0.526412</td>\n",
              "      <td>0.365462</td>\n",
              "      <td>0.036119</td>\n",
              "      <td>0.665207</td>\n",
              "      <td>-1.306645</td>\n",
              "      <td>0.655242</td>\n",
              "    </tr>\n",
              "    <tr>\n",
              "      <th>23</th>\n",
              "      <td>-0.115558</td>\n",
              "      <td>0.428502</td>\n",
              "      <td>0.417687</td>\n",
              "      <td>0.231202</td>\n",
              "      <td>-1.626008</td>\n",
              "      <td>0.504156</td>\n",
              "    </tr>\n",
              "    <tr>\n",
              "      <th>24</th>\n",
              "      <td>-0.504908</td>\n",
              "      <td>0.519522</td>\n",
              "      <td>0.190313</td>\n",
              "      <td>0.663763</td>\n",
              "      <td>-1.380561</td>\n",
              "      <td>0.619891</td>\n",
              "    </tr>\n",
              "    <tr>\n",
              "      <th>25</th>\n",
              "      <td>-0.084493</td>\n",
              "      <td>0.451332</td>\n",
              "      <td>0.433480</td>\n",
              "      <td>0.285711</td>\n",
              "      <td>-1.396361</td>\n",
              "      <td>0.612417</td>\n",
              "    </tr>\n",
              "    <tr>\n",
              "      <th>26</th>\n",
              "      <td>0.828355</td>\n",
              "      <td>0.731386</td>\n",
              "      <td>0.671726</td>\n",
              "      <td>0.291427</td>\n",
              "      <td>0.188207</td>\n",
              "      <td>1.448390</td>\n",
              "    </tr>\n",
              "    <tr>\n",
              "      <th>27</th>\n",
              "      <td>-0.543931</td>\n",
              "      <td>0.538106</td>\n",
              "      <td>0.191466</td>\n",
              "      <td>0.720954</td>\n",
              "      <td>-1.414440</td>\n",
              "      <td>0.603721</td>\n",
              "    </tr>\n",
              "    <tr>\n",
              "      <th>28</th>\n",
              "      <td>0.767246</td>\n",
              "      <td>0.649156</td>\n",
              "      <td>0.585820</td>\n",
              "      <td>0.354647</td>\n",
              "      <td>0.247899</td>\n",
              "      <td>1.498404</td>\n",
              "    </tr>\n",
              "    <tr>\n",
              "      <th>29</th>\n",
              "      <td>-0.526812</td>\n",
              "      <td>0.530007</td>\n",
              "      <td>0.190975</td>\n",
              "      <td>0.695553</td>\n",
              "      <td>-1.400039</td>\n",
              "      <td>0.610590</td>\n",
              "    </tr>\n",
              "    <tr>\n",
              "      <th>30</th>\n",
              "      <td>-0.097252</td>\n",
              "      <td>0.385875</td>\n",
              "      <td>0.370447</td>\n",
              "      <td>0.198525</td>\n",
              "      <td>-1.487209</td>\n",
              "      <td>0.569057</td>\n",
              "    </tr>\n",
              "    <tr>\n",
              "      <th>31</th>\n",
              "      <td>-0.506492</td>\n",
              "      <td>0.520285</td>\n",
              "      <td>0.190362</td>\n",
              "      <td>0.666034</td>\n",
              "      <td>-1.382010</td>\n",
              "      <td>0.619199</td>\n",
              "    </tr>\n",
              "    <tr>\n",
              "      <th>32</th>\n",
              "      <td>0.862539</td>\n",
              "      <td>0.759363</td>\n",
              "      <td>0.695065</td>\n",
              "      <td>0.320298</td>\n",
              "      <td>0.168296</td>\n",
              "      <td>1.430424</td>\n",
              "    </tr>\n",
              "    <tr>\n",
              "      <th>33</th>\n",
              "      <td>-0.084493</td>\n",
              "      <td>0.451332</td>\n",
              "      <td>0.433480</td>\n",
              "      <td>0.285711</td>\n",
              "      <td>-1.396361</td>\n",
              "      <td>0.612417</td>\n",
              "    </tr>\n",
              "    <tr>\n",
              "      <th>34</th>\n",
              "      <td>-0.557809</td>\n",
              "      <td>0.544612</td>\n",
              "      <td>0.191849</td>\n",
              "      <td>0.741908</td>\n",
              "      <td>-1.425620</td>\n",
              "      <td>0.598393</td>\n",
              "    </tr>\n",
              "    <tr>\n",
              "      <th>35</th>\n",
              "      <td>-0.449222</td>\n",
              "      <td>0.541308</td>\n",
              "      <td>0.192482</td>\n",
              "      <td>0.772034</td>\n",
              "      <td>-1.161777</td>\n",
              "      <td>0.725327</td>\n",
              "    </tr>\n",
              "    <tr>\n",
              "      <th>36</th>\n",
              "      <td>0.855831</td>\n",
              "      <td>0.756613</td>\n",
              "      <td>0.694119</td>\n",
              "      <td>0.303698</td>\n",
              "      <td>0.164085</td>\n",
              "      <td>1.426559</td>\n",
              "    </tr>\n",
              "    <tr>\n",
              "      <th>37</th>\n",
              "      <td>-0.070356</td>\n",
              "      <td>0.437343</td>\n",
              "      <td>0.420688</td>\n",
              "      <td>0.272575</td>\n",
              "      <td>-1.376582</td>\n",
              "      <td>0.621764</td>\n",
              "    </tr>\n",
              "    <tr>\n",
              "      <th>38</th>\n",
              "      <td>-0.453903</td>\n",
              "      <td>0.543707</td>\n",
              "      <td>0.192637</td>\n",
              "      <td>0.779136</td>\n",
              "      <td>-1.167309</td>\n",
              "      <td>0.722630</td>\n",
              "    </tr>\n",
              "    <tr>\n",
              "      <th>39</th>\n",
              "      <td>0.853595</td>\n",
              "      <td>0.755687</td>\n",
              "      <td>0.693796</td>\n",
              "      <td>0.298264</td>\n",
              "      <td>0.162610</td>\n",
              "      <td>1.425199</td>\n",
              "    </tr>\n",
              "  </tbody>\n",
              "</table>\n",
              "</div>"
            ],
            "text/plain": [
              "        mean     gmean     hmean  variance  kurtosis      skew\n",
              "0  -0.459101  0.643851  0.355540  0.817552 -1.268521  0.673607\n",
              "1  -0.115558  0.428502  0.417687  0.231202 -1.626008  0.504156\n",
              "2  -0.489104  0.511869  0.189809  0.641322 -1.365727  0.626984\n",
              "3   0.844690  0.767316  0.713105  0.218513  0.083334  1.347752\n",
              "4  -0.498619  0.516485  0.190115  0.654782 -1.374738  0.622674\n",
              "5   0.846887  0.752883  0.692806  0.282264  0.157954  1.420887\n",
              "6  -0.489090  0.511862  0.189809  0.641303 -1.365713  0.626990\n",
              "7  -0.072678  0.387290  0.379765  0.195721 -1.589427  0.520788\n",
              "8   0.761968  0.650609  0.589734  0.328947  0.246717  1.497492\n",
              "9  -0.495437  0.514944  0.190014  0.650264 -1.371752  0.624102\n",
              "10 -0.506492  0.520285  0.190362  0.666034 -1.382010  0.619199\n",
              "11  0.834288  0.736625  0.676308  0.294919  0.183826  1.444486\n",
              "12 -0.493908  0.514203  0.189965  0.648100 -1.370308  0.624793\n",
              "13  0.961717  0.876779  0.807193  0.243553 -0.128798  1.093696\n",
              "14 -0.501698  0.517974  0.190212  0.659171 -1.377603  0.621305\n",
              "15 -0.107374  0.367219  0.339755  0.190740 -1.347891  0.635259\n",
              "16 -0.489136  0.511884  0.189810  0.641367 -1.365758  0.626969\n",
              "17 -0.506492  0.520285  0.190362  0.666034 -1.382010  0.619199\n",
              "18  0.936841  0.851952  0.785599  0.245922 -0.064982  1.178371\n",
              "19 -0.510993  0.522449  0.190501  0.672513 -1.386094  0.617248\n",
              "20 -0.092923  0.354226  0.329691  0.179858 -1.320541  0.648137\n",
              "21  0.846887  0.752883  0.692806  0.282264  0.157954  1.420887\n",
              "22 -0.526412  0.365462  0.036119  0.665207 -1.306645  0.655242\n",
              "23 -0.115558  0.428502  0.417687  0.231202 -1.626008  0.504156\n",
              "24 -0.504908  0.519522  0.190313  0.663763 -1.380561  0.619891\n",
              "25 -0.084493  0.451332  0.433480  0.285711 -1.396361  0.612417\n",
              "26  0.828355  0.731386  0.671726  0.291427  0.188207  1.448390\n",
              "27 -0.543931  0.538106  0.191466  0.720954 -1.414440  0.603721\n",
              "28  0.767246  0.649156  0.585820  0.354647  0.247899  1.498404\n",
              "29 -0.526812  0.530007  0.190975  0.695553 -1.400039  0.610590\n",
              "30 -0.097252  0.385875  0.370447  0.198525 -1.487209  0.569057\n",
              "31 -0.506492  0.520285  0.190362  0.666034 -1.382010  0.619199\n",
              "32  0.862539  0.759363  0.695065  0.320298  0.168296  1.430424\n",
              "33 -0.084493  0.451332  0.433480  0.285711 -1.396361  0.612417\n",
              "34 -0.557809  0.544612  0.191849  0.741908 -1.425620  0.598393\n",
              "35 -0.449222  0.541308  0.192482  0.772034 -1.161777  0.725327\n",
              "36  0.855831  0.756613  0.694119  0.303698  0.164085  1.426559\n",
              "37 -0.070356  0.437343  0.420688  0.272575 -1.376582  0.621764\n",
              "38 -0.453903  0.543707  0.192637  0.779136 -1.167309  0.722630\n",
              "39  0.853595  0.755687  0.693796  0.298264  0.162610  1.425199"
            ]
          },
          "metadata": {},
          "output_type": "display_data"
        }
      ],
      "source": [
        "\n",
        "telemetry['mean'] = telemetry[telemetry_columns].mean(axis=1)\n",
        "telemetry['gmean'] = sps.gmean(abs(telemetry[telemetry_columns]).values, axis=1)\n",
        "telemetry['hmean'] = sps.hmean(abs(telemetry[telemetry_columns]).values, axis=1)\n",
        "telemetry['variance'] = telemetry[telemetry_columns].var(axis=1)\n",
        "telemetry['kurtosis'] = sps.kurtosis(telemetry[telemetry_columns].values, axis=1)\n",
        "telemetry['skew'] = sps.skew(telemetry[telemetry_columns].values, axis=1)\n",
        "display(telemetry[['mean', 'gmean', 'hmean', 'variance', 'kurtosis', 'skew']].head(40))"
      ]
    },
    {
      "cell_type": "markdown",
      "metadata": {
        "id": "E8hZzOSvymHL"
      },
      "source": [
        "# **2. Empirical Risk Minimization and the Law of Large Numbers**"
      ]
    },
    {
      "cell_type": "markdown",
      "metadata": {
        "id": "5YpfhDVMymHM"
      },
      "source": [
        "## Problem 2.1"
      ]
    },
    {
      "cell_type": "markdown",
      "metadata": {
        "id": "1EQWwLbvymHN"
      },
      "source": [
        "### (a)"
      ]
    },
    {
      "cell_type": "code",
      "execution_count": 13,
      "metadata": {
        "id": "2Me2gtgRUxAi"
      },
      "outputs": [],
      "source": [
        "rolls = [1, 2, 3, 4, 5, 6]\n",
        "sample_means = []\n",
        "for i in range (10000):\n",
        "    sample_means.append(np.random.choice(rolls, i+1).mean())\n"
      ]
    },
    {
      "cell_type": "markdown",
      "metadata": {
        "id": "T5HoKdioymHN"
      },
      "source": [
        "### (b)"
      ]
    },
    {
      "cell_type": "code",
      "execution_count": 14,
      "metadata": {
        "id": "xUGIEmzYymHN"
      },
      "outputs": [],
      "source": [
        "E_D = np.mean(rolls)\n",
        "absolute_discrepancy = [abs(sample_mean - E_D) for sample_mean in sample_means]\n"
      ]
    },
    {
      "cell_type": "markdown",
      "metadata": {
        "id": "TGHAoXfMymHO"
      },
      "source": [
        "### (c)\n",
        "\n"
      ]
    },
    {
      "cell_type": "code",
      "execution_count": 15,
      "metadata": {
        "id": "ItDMYWoFymHO"
      },
      "outputs": [
        {
          "data": {
            "image/png": "[encoded data removed]",
            "text/plain": [
              "<Figure size 1200x600 with 1 Axes>"
            ]
          },
          "metadata": {},
          "output_type": "display_data"
        }
      ],
      "source": [
        "plt.figure(figsize=(12, 6))\n",
        "plt.plot(sample_means, label='Sample Means', alpha=0.7)\n",
        "plt.axhline(y=E_D, color='r', linestyle='--', label='Expected Mean (3.5)')\n",
        "\n",
        "plt.xlabel('Sample Size')\n",
        "plt.ylabel('Sample Mean')\n",
        "plt.title('Sample Means of Dice Rolls vs. Expected Mean')\n",
        "plt.legend()\n",
        "\n",
        "plt.show()"
      ]
    },
    {
      "cell_type": "markdown",
      "metadata": {
        "id": "eh5_wIm-FErc"
      },
      "source": [
        "It can be seen from the graph that the sample mean varies much more when the sample size is smaller compared to that of when the sample size is larger. Although the graph shows that it doesn't reach the exact empirical mean, it gets really close to it as the sample size increases."
      ]
    },
    {
      "cell_type": "markdown",
      "metadata": {
        "id": "7kNl2WpSymHO"
      },
      "source": [
        "### (d)"
      ]
    },
    {
      "cell_type": "code",
      "execution_count": 16,
      "metadata": {
        "id": "AblNbsncymHO"
      },
      "outputs": [
        {
          "data": {
            "image/png": "[encoded data removed]",
            "text/plain": [
              "<Figure size 1200x600 with 1 Axes>"
            ]
          },
          "metadata": {},
          "output_type": "display_data"
        }
      ],
      "source": [
        "plt.figure(figsize=(12, 6))\n",
        "plt.plot(absolute_discrepancy, label='Absolute Discrepancy', alpha=0.7)\n",
        "\n",
        "plt.xlabel('Sample Size')\n",
        "plt.ylabel('Absolute Discrepancy')\n",
        "plt.title('Absolute Discrepancy of Dice Rolls vs. Expected Mean')\n",
        "plt.legend()\n",
        "\n",
        "plt.show()"
      ]
    },
    {
      "cell_type": "markdown",
      "metadata": {
        "id": "rA5ARwb5FM3y"
      },
      "source": [
        "One thing to note from the plot is as the sample size gets larger, the absolute difference between the sample mean and the empirical mean decreases almost to 0. What this goes to show from the Law of Large Numbers is that as the Sample Size increases to infinity, the absolute discrepancy between the sample mean and empirical mean decreases to 0."
      ]
    },
    {
      "cell_type": "markdown",
      "metadata": {
        "id": "FpQWnOOpymHT"
      },
      "source": [
        "## Problem 2.2"
      ]
    },
    {
      "cell_type": "markdown",
      "metadata": {
        "id": "eo0-9wXTVIKh"
      },
      "source": [
        "### (a)"
      ]
    },
    {
      "cell_type": "code",
      "execution_count": 17,
      "metadata": {
        "id": "QmAtpjMiymHU"
      },
      "outputs": [],
      "source": [
        "rolls = [1, 2, 3, 4, 5, 6]\n",
        "die_probabilities = [0.1, 0.1, 0.1, 0.1, 0.1, 0.5]\n",
        "sample_means_unfair = []\n",
        "for i in range (10000):\n",
        "    sample_means_unfair.append(np.random.choice(rolls, i+1, p=die_probabilities).mean())"
      ]
    },
    {
      "cell_type": "markdown",
      "metadata": {
        "id": "6nTycRr4V8GJ"
      },
      "source": [
        "### (b)"
      ]
    },
    {
      "cell_type": "code",
      "execution_count": 18,
      "metadata": {
        "id": "EdNv5GgGFRIo"
      },
      "outputs": [
        {
          "name": "stdout",
          "output_type": "stream",
          "text": [
            "4.5\n"
          ]
        }
      ],
      "source": [
        "E_D_unfair = rolls[0]*0.1+rolls[1]*0.1+rolls[2]*0.1+rolls[3]*0.1+rolls[4]*0.1+rolls[5]*0.5\n",
        "print(E_D_unfair)\n",
        "absolute_discrepancy_unfair = [abs(sample_mean - E_D_unfair) for sample_mean in sample_means_unfair]"
      ]
    },
    {
      "cell_type": "markdown",
      "metadata": {
        "id": "Pw5kjI4GWLsL"
      },
      "source": [
        "### (c)"
      ]
    },
    {
      "cell_type": "code",
      "execution_count": 19,
      "metadata": {
        "id": "riHIp_QVWSh4"
      },
      "outputs": [
        {
          "data": {
            "image/png": "[encoded data removed]",
            "text/plain": [
              "<Figure size 1200x600 with 1 Axes>"
            ]
          },
          "metadata": {},
          "output_type": "display_data"
        }
      ],
      "source": [
        "plt.figure(figsize=(12, 6))\n",
        "plt.plot(sample_means_unfair, label='Sample Means (Unfair)', alpha=0.7)\n",
        "plt.axhline(y=E_D_unfair, color='r', linestyle='--', label=f'Expected Mean ({E_D_unfair})')\n",
        "\n",
        "plt.xlabel('Sample Size')\n",
        "plt.ylabel('Sample Mean (Unfair)')\n",
        "plt.title('Sample Means (Unfair) of Dice Rolls vs. Expected Mean')\n",
        "plt.legend()\n",
        "\n",
        "plt.show()"
      ]
    },
    {
      "cell_type": "markdown",
      "metadata": {
        "id": "zRXfaZTiWS9K"
      },
      "source": [
        "One thing to note about the empirical average of an unfair die is that even though the probabilities of landing each face are different, when the sample size increases, the sample mean still approaches that of the empirical mean, similar to the graph of 2.1(c)."
      ]
    },
    {
      "cell_type": "markdown",
      "metadata": {
        "id": "6ACrqDnpWkJu"
      },
      "source": [
        "### (d)"
      ]
    },
    {
      "cell_type": "code",
      "execution_count": 20,
      "metadata": {
        "id": "GhlnUavVWkgc"
      },
      "outputs": [
        {
          "data": {
            "image/png": "[encoded data removed]",
            "text/plain": [
              "<Figure size 1200x600 with 1 Axes>"
            ]
          },
          "metadata": {},
          "output_type": "display_data"
        }
      ],
      "source": [
        "plt.figure(figsize=(12, 6))\n",
        "plt.plot(absolute_discrepancy_unfair, label='Absolute Discrepancy (Unfair)', alpha=0.7)\n",
        "\n",
        "plt.xlabel('Sample Size')\n",
        "plt.ylabel('Absolute Discrepancy (Unfair)')\n",
        "plt.title('Absolute Discrepancy (Unfair) of Dice Rolls vs. Expected Mean')\n",
        "plt.legend()\n",
        "\n",
        "plt.show()"
      ]
    },
    {
      "cell_type": "markdown",
      "metadata": {
        "id": "GSS1rciWFowB"
      },
      "source": [
        "The result is similar to that of 2.1(d): As the sample size increases to infinity, the absolute difference between the sample mean and the empirical mean decreases to 0."
      ]
    }
  ],
  "metadata": {
    "colab": {
      "provenance": []
    },
    "kernelspec": {
      "display_name": "Python 3",
      "language": "python",
      "name": "python3"
    },
    "language_info": {
      "codemirror_mode": {
        "name": "ipython",
        "version": 3
      },
      "file_extension": ".py",
      "mimetype": "text/x-python",
      "name": "python",
      "nbconvert_exporter": "python",
      "pygments_lexer": "ipython3",
      "version": "3.11.9"
    }
  },
  "nbformat": 4,
  "nbformat_minor": 0
}
