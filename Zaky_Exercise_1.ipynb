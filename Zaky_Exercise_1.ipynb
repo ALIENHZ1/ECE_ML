{
  "cells": [
    {
      "cell_type": "markdown",
      "metadata": {
        "id": "DAO8AZsc266y"
      },
      "source": [
        "# Hazem Zaky\n",
        "# Programming Exercise \\#1\n",
        "---"
      ]
    },
    {
      "cell_type": "markdown",
      "metadata": {
        "id": "rJOtXeNg38_u"
      },
      "source": [
        "# Preamble"
      ]
    },
    {
      "cell_type": "code",
      "execution_count": 85,
      "metadata": {
        "id": "Ldu0WSDK4IjA"
      },
      "outputs": [
        {
          "data": {
            "text/plain": [
              "\"\\n# mount Google Drive in Google Colab\\nfrom google.colab import drive\\ndrive.mount('/content/drive')\\n\\n# change directory using the magic command %cd\\n### replace [MY PATH] below with your own path in Google Drive ###\\n### %cd /content/drive/My\\\\ Drive/[MY PATH] ###\\n\""
            ]
          },
          "execution_count": 85,
          "metadata": {},
          "output_type": "execute_result"
        }
      ],
      "source": [
        "# optional code cell when using Google Colab with Google Drive\n",
        "\n",
        "# remove the docstring comment block below in order to mount Google Drive\n",
        "'''\n",
        "# mount Google Drive in Google Colab\n",
        "from google.colab import drive\n",
        "drive.mount('/content/drive')\n",
        "\n",
        "# change directory using the magic command %cd\n",
        "### replace [MY PATH] below with your own path in Google Drive ###\n",
        "### %cd /content/drive/My\\ Drive/[MY PATH] ###\n",
        "'''"
      ]
    },
    {
      "cell_type": "code",
      "execution_count": 86,
      "metadata": {
        "id": "rjUKWdVD_Eqh"
      },
      "outputs": [],
      "source": [
        "# import relevant Python libraries\n",
        "\n",
        "import numpy as np\n",
        "import pandas as pd\n",
        "from scipy import stats as sps\n",
        "from IPython.display import display, Latex"
      ]
    },
    {
      "cell_type": "markdown",
      "metadata": {
        "id": "PeHo02TLz-hL"
      },
      "source": [
        "# **1. Fetal Health Classification Dataset**"
      ]
    },
    {
      "cell_type": "markdown",
      "metadata": {
        "id": "wnzH3Rd2vu-l"
      },
      "source": [
        "## **Clean Dataset**"
      ]
    },
    {
      "cell_type": "markdown",
      "metadata": {
        "id": "qmMHJttez-hM"
      },
      "source": [
        "### Problem 1.1"
      ]
    },
    {
      "cell_type": "code",
      "execution_count": 87,
      "metadata": {
        "id": "IgKSHxewsRdP"
      },
      "outputs": [],
      "source": [
        "# load the clean dataset csv file into a pandas dataframe\n",
        "\n",
        "fetal_df = pd.read_csv('data/fetal_health_dataset_clean.csv') "
      ]
    },
    {
      "cell_type": "markdown",
      "metadata": {
        "id": "EKQZRr9Dz-hN"
      },
      "source": [
        "#### (a)"
      ]
    },
    {
      "cell_type": "markdown",
      "metadata": {
        "id": "9eH6uWf4z-hN"
      },
      "source": [
        "This is a supervised machine learning task because we are given the output of each data value as whether the fetus is normal, suspect, or pathological."
      ]
    },
    {
      "cell_type": "markdown",
      "metadata": {
        "id": "77c-6U-_z-hO"
      },
      "source": [
        "#### (b)"
      ]
    },
    {
      "cell_type": "code",
      "execution_count": 88,
      "metadata": {
        "id": "530SUQVjz-hP"
      },
      "outputs": [
        {
          "name": "stdout",
          "output_type": "stream",
          "text": [
            "Axes:  [RangeIndex(start=0, stop=2126, step=1), Index(['baseline value', 'accelerations', 'fetal_movement',\n",
            "       'uterine_contractions', 'light_decelerations', 'severe_decelerations',\n",
            "       'prolongued_decelerations', 'abnormal_short_term_variability',\n",
            "       'mean_value_of_short_term_variability',\n",
            "       'percentage_of_time_with_abnormal_long_term_variability',\n",
            "       'mean_value_of_long_term_variability', 'histogram_width',\n",
            "       'histogram_min', 'histogram_max', 'histogram_number_of_peaks',\n",
            "       'histogram_number_of_zeroes', 'histogram_mode', 'histogram_mean',\n",
            "       'histogram_median', 'histogram_variance', 'histogram_tendency',\n",
            "       'fetal_health'],\n",
            "      dtype='object')]\n",
            "\n",
            "\n",
            "\n",
            "Dtypes:  baseline value                                              int64\n",
            "accelerations                                             float64\n",
            "fetal_movement                                            float64\n",
            "uterine_contractions                                      float64\n",
            "light_decelerations                                       float64\n",
            "severe_decelerations                                      float64\n",
            "prolongued_decelerations                                  float64\n",
            "abnormal_short_term_variability                             int64\n",
            "mean_value_of_short_term_variability                      float64\n",
            "percentage_of_time_with_abnormal_long_term_variability      int64\n",
            "mean_value_of_long_term_variability                       float64\n",
            "histogram_width                                             int64\n",
            "histogram_min                                               int64\n",
            "histogram_max                                               int64\n",
            "histogram_number_of_peaks                                   int64\n",
            "histogram_number_of_zeroes                                  int64\n",
            "histogram_mode                                              int64\n",
            "histogram_mean                                              int64\n",
            "histogram_median                                            int64\n",
            "histogram_variance                                          int64\n",
            "histogram_tendency                                          int64\n",
            "fetal_health                                                int64\n",
            "dtype: object\n"
          ]
        }
      ],
      "source": [
        "print('Axes: ', fetal_df.axes)\n",
        "print('\\n\\n')\n",
        "print('Dtypes: ', fetal_df.dtypes)"
      ]
    },
    {
      "cell_type": "markdown",
      "metadata": {},
      "source": [
        "#### (c)"
      ]
    },
    {
      "cell_type": "code",
      "execution_count": 89,
      "metadata": {
        "id": "1D7twXbHz-hR"
      },
      "outputs": [
        {
          "data": {
            "text/html": [
              "<div>\n",
              "<style scoped>\n",
              "    .dataframe tbody tr th:only-of-type {\n",
              "        vertical-align: middle;\n",
              "    }\n",
              "\n",
              "    .dataframe tbody tr th {\n",
              "        vertical-align: top;\n",
              "    }\n",
              "\n",
              "    .dataframe thead th {\n",
              "        text-align: right;\n",
              "    }\n",
              "</style>\n",
              "<table border=\"1\" class=\"dataframe\">\n",
              "  <thead>\n",
              "    <tr style=\"text-align: right;\">\n",
              "      <th></th>\n",
              "      <th>baseline value</th>\n",
              "      <th>accelerations</th>\n",
              "      <th>fetal_movement</th>\n",
              "      <th>uterine_contractions</th>\n",
              "      <th>light_decelerations</th>\n",
              "      <th>severe_decelerations</th>\n",
              "      <th>prolongued_decelerations</th>\n",
              "      <th>abnormal_short_term_variability</th>\n",
              "      <th>mean_value_of_short_term_variability</th>\n",
              "      <th>percentage_of_time_with_abnormal_long_term_variability</th>\n",
              "      <th>...</th>\n",
              "      <th>histogram_min</th>\n",
              "      <th>histogram_max</th>\n",
              "      <th>histogram_number_of_peaks</th>\n",
              "      <th>histogram_number_of_zeroes</th>\n",
              "      <th>histogram_mode</th>\n",
              "      <th>histogram_mean</th>\n",
              "      <th>histogram_median</th>\n",
              "      <th>histogram_variance</th>\n",
              "      <th>histogram_tendency</th>\n",
              "      <th>fetal_health</th>\n",
              "    </tr>\n",
              "  </thead>\n",
              "  <tbody>\n",
              "    <tr>\n",
              "      <th>0</th>\n",
              "      <td>120</td>\n",
              "      <td>0.000</td>\n",
              "      <td>0.0</td>\n",
              "      <td>0.000</td>\n",
              "      <td>0.000</td>\n",
              "      <td>0.0</td>\n",
              "      <td>0.000</td>\n",
              "      <td>73</td>\n",
              "      <td>0.5</td>\n",
              "      <td>43</td>\n",
              "      <td>...</td>\n",
              "      <td>62</td>\n",
              "      <td>126</td>\n",
              "      <td>2</td>\n",
              "      <td>0</td>\n",
              "      <td>120</td>\n",
              "      <td>137</td>\n",
              "      <td>121</td>\n",
              "      <td>73</td>\n",
              "      <td>1</td>\n",
              "      <td>2</td>\n",
              "    </tr>\n",
              "    <tr>\n",
              "      <th>1</th>\n",
              "      <td>132</td>\n",
              "      <td>0.006</td>\n",
              "      <td>0.0</td>\n",
              "      <td>0.006</td>\n",
              "      <td>0.003</td>\n",
              "      <td>0.0</td>\n",
              "      <td>0.000</td>\n",
              "      <td>17</td>\n",
              "      <td>2.1</td>\n",
              "      <td>0</td>\n",
              "      <td>...</td>\n",
              "      <td>68</td>\n",
              "      <td>198</td>\n",
              "      <td>6</td>\n",
              "      <td>1</td>\n",
              "      <td>141</td>\n",
              "      <td>136</td>\n",
              "      <td>140</td>\n",
              "      <td>12</td>\n",
              "      <td>0</td>\n",
              "      <td>1</td>\n",
              "    </tr>\n",
              "    <tr>\n",
              "      <th>2</th>\n",
              "      <td>133</td>\n",
              "      <td>0.003</td>\n",
              "      <td>0.0</td>\n",
              "      <td>0.008</td>\n",
              "      <td>0.003</td>\n",
              "      <td>0.0</td>\n",
              "      <td>0.000</td>\n",
              "      <td>16</td>\n",
              "      <td>2.1</td>\n",
              "      <td>0</td>\n",
              "      <td>...</td>\n",
              "      <td>68</td>\n",
              "      <td>198</td>\n",
              "      <td>5</td>\n",
              "      <td>1</td>\n",
              "      <td>141</td>\n",
              "      <td>135</td>\n",
              "      <td>138</td>\n",
              "      <td>13</td>\n",
              "      <td>0</td>\n",
              "      <td>1</td>\n",
              "    </tr>\n",
              "    <tr>\n",
              "      <th>3</th>\n",
              "      <td>134</td>\n",
              "      <td>0.003</td>\n",
              "      <td>0.0</td>\n",
              "      <td>0.008</td>\n",
              "      <td>0.003</td>\n",
              "      <td>0.0</td>\n",
              "      <td>0.000</td>\n",
              "      <td>16</td>\n",
              "      <td>2.4</td>\n",
              "      <td>0</td>\n",
              "      <td>...</td>\n",
              "      <td>53</td>\n",
              "      <td>170</td>\n",
              "      <td>11</td>\n",
              "      <td>0</td>\n",
              "      <td>137</td>\n",
              "      <td>134</td>\n",
              "      <td>137</td>\n",
              "      <td>13</td>\n",
              "      <td>1</td>\n",
              "      <td>1</td>\n",
              "    </tr>\n",
              "    <tr>\n",
              "      <th>4</th>\n",
              "      <td>132</td>\n",
              "      <td>0.007</td>\n",
              "      <td>0.0</td>\n",
              "      <td>0.008</td>\n",
              "      <td>0.000</td>\n",
              "      <td>0.0</td>\n",
              "      <td>0.000</td>\n",
              "      <td>16</td>\n",
              "      <td>2.4</td>\n",
              "      <td>0</td>\n",
              "      <td>...</td>\n",
              "      <td>53</td>\n",
              "      <td>170</td>\n",
              "      <td>9</td>\n",
              "      <td>0</td>\n",
              "      <td>137</td>\n",
              "      <td>136</td>\n",
              "      <td>138</td>\n",
              "      <td>11</td>\n",
              "      <td>1</td>\n",
              "      <td>1</td>\n",
              "    </tr>\n",
              "    <tr>\n",
              "      <th>5</th>\n",
              "      <td>134</td>\n",
              "      <td>0.001</td>\n",
              "      <td>0.0</td>\n",
              "      <td>0.010</td>\n",
              "      <td>0.009</td>\n",
              "      <td>0.0</td>\n",
              "      <td>0.002</td>\n",
              "      <td>26</td>\n",
              "      <td>5.9</td>\n",
              "      <td>0</td>\n",
              "      <td>...</td>\n",
              "      <td>50</td>\n",
              "      <td>200</td>\n",
              "      <td>5</td>\n",
              "      <td>3</td>\n",
              "      <td>76</td>\n",
              "      <td>107</td>\n",
              "      <td>107</td>\n",
              "      <td>170</td>\n",
              "      <td>0</td>\n",
              "      <td>3</td>\n",
              "    </tr>\n",
              "    <tr>\n",
              "      <th>6</th>\n",
              "      <td>134</td>\n",
              "      <td>0.001</td>\n",
              "      <td>0.0</td>\n",
              "      <td>0.013</td>\n",
              "      <td>0.008</td>\n",
              "      <td>0.0</td>\n",
              "      <td>0.003</td>\n",
              "      <td>29</td>\n",
              "      <td>6.3</td>\n",
              "      <td>0</td>\n",
              "      <td>...</td>\n",
              "      <td>50</td>\n",
              "      <td>200</td>\n",
              "      <td>6</td>\n",
              "      <td>3</td>\n",
              "      <td>71</td>\n",
              "      <td>107</td>\n",
              "      <td>106</td>\n",
              "      <td>215</td>\n",
              "      <td>0</td>\n",
              "      <td>3</td>\n",
              "    </tr>\n",
              "    <tr>\n",
              "      <th>7</th>\n",
              "      <td>122</td>\n",
              "      <td>0.000</td>\n",
              "      <td>0.0</td>\n",
              "      <td>0.000</td>\n",
              "      <td>0.000</td>\n",
              "      <td>0.0</td>\n",
              "      <td>0.000</td>\n",
              "      <td>83</td>\n",
              "      <td>0.5</td>\n",
              "      <td>6</td>\n",
              "      <td>...</td>\n",
              "      <td>62</td>\n",
              "      <td>130</td>\n",
              "      <td>0</td>\n",
              "      <td>0</td>\n",
              "      <td>122</td>\n",
              "      <td>122</td>\n",
              "      <td>123</td>\n",
              "      <td>3</td>\n",
              "      <td>1</td>\n",
              "      <td>3</td>\n",
              "    </tr>\n",
              "    <tr>\n",
              "      <th>8</th>\n",
              "      <td>122</td>\n",
              "      <td>0.000</td>\n",
              "      <td>0.0</td>\n",
              "      <td>0.002</td>\n",
              "      <td>0.000</td>\n",
              "      <td>0.0</td>\n",
              "      <td>0.000</td>\n",
              "      <td>84</td>\n",
              "      <td>0.5</td>\n",
              "      <td>5</td>\n",
              "      <td>...</td>\n",
              "      <td>62</td>\n",
              "      <td>130</td>\n",
              "      <td>0</td>\n",
              "      <td>0</td>\n",
              "      <td>122</td>\n",
              "      <td>122</td>\n",
              "      <td>123</td>\n",
              "      <td>3</td>\n",
              "      <td>1</td>\n",
              "      <td>3</td>\n",
              "    </tr>\n",
              "    <tr>\n",
              "      <th>9</th>\n",
              "      <td>122</td>\n",
              "      <td>0.000</td>\n",
              "      <td>0.0</td>\n",
              "      <td>0.003</td>\n",
              "      <td>0.000</td>\n",
              "      <td>0.0</td>\n",
              "      <td>0.000</td>\n",
              "      <td>86</td>\n",
              "      <td>0.3</td>\n",
              "      <td>6</td>\n",
              "      <td>...</td>\n",
              "      <td>62</td>\n",
              "      <td>130</td>\n",
              "      <td>1</td>\n",
              "      <td>0</td>\n",
              "      <td>122</td>\n",
              "      <td>122</td>\n",
              "      <td>123</td>\n",
              "      <td>1</td>\n",
              "      <td>1</td>\n",
              "      <td>3</td>\n",
              "    </tr>\n",
              "  </tbody>\n",
              "</table>\n",
              "<p>10 rows × 22 columns</p>\n",
              "</div>"
            ],
            "text/plain": [
              "   baseline value  accelerations  fetal_movement  uterine_contractions  \\\n",
              "0             120          0.000             0.0                 0.000   \n",
              "1             132          0.006             0.0                 0.006   \n",
              "2             133          0.003             0.0                 0.008   \n",
              "3             134          0.003             0.0                 0.008   \n",
              "4             132          0.007             0.0                 0.008   \n",
              "5             134          0.001             0.0                 0.010   \n",
              "6             134          0.001             0.0                 0.013   \n",
              "7             122          0.000             0.0                 0.000   \n",
              "8             122          0.000             0.0                 0.002   \n",
              "9             122          0.000             0.0                 0.003   \n",
              "\n",
              "   light_decelerations  severe_decelerations  prolongued_decelerations  \\\n",
              "0                0.000                   0.0                     0.000   \n",
              "1                0.003                   0.0                     0.000   \n",
              "2                0.003                   0.0                     0.000   \n",
              "3                0.003                   0.0                     0.000   \n",
              "4                0.000                   0.0                     0.000   \n",
              "5                0.009                   0.0                     0.002   \n",
              "6                0.008                   0.0                     0.003   \n",
              "7                0.000                   0.0                     0.000   \n",
              "8                0.000                   0.0                     0.000   \n",
              "9                0.000                   0.0                     0.000   \n",
              "\n",
              "   abnormal_short_term_variability  mean_value_of_short_term_variability  \\\n",
              "0                               73                                   0.5   \n",
              "1                               17                                   2.1   \n",
              "2                               16                                   2.1   \n",
              "3                               16                                   2.4   \n",
              "4                               16                                   2.4   \n",
              "5                               26                                   5.9   \n",
              "6                               29                                   6.3   \n",
              "7                               83                                   0.5   \n",
              "8                               84                                   0.5   \n",
              "9                               86                                   0.3   \n",
              "\n",
              "   percentage_of_time_with_abnormal_long_term_variability  ...  histogram_min  \\\n",
              "0                                                 43       ...             62   \n",
              "1                                                  0       ...             68   \n",
              "2                                                  0       ...             68   \n",
              "3                                                  0       ...             53   \n",
              "4                                                  0       ...             53   \n",
              "5                                                  0       ...             50   \n",
              "6                                                  0       ...             50   \n",
              "7                                                  6       ...             62   \n",
              "8                                                  5       ...             62   \n",
              "9                                                  6       ...             62   \n",
              "\n",
              "   histogram_max  histogram_number_of_peaks  histogram_number_of_zeroes  \\\n",
              "0            126                          2                           0   \n",
              "1            198                          6                           1   \n",
              "2            198                          5                           1   \n",
              "3            170                         11                           0   \n",
              "4            170                          9                           0   \n",
              "5            200                          5                           3   \n",
              "6            200                          6                           3   \n",
              "7            130                          0                           0   \n",
              "8            130                          0                           0   \n",
              "9            130                          1                           0   \n",
              "\n",
              "   histogram_mode  histogram_mean  histogram_median  histogram_variance  \\\n",
              "0             120             137               121                  73   \n",
              "1             141             136               140                  12   \n",
              "2             141             135               138                  13   \n",
              "3             137             134               137                  13   \n",
              "4             137             136               138                  11   \n",
              "5              76             107               107                 170   \n",
              "6              71             107               106                 215   \n",
              "7             122             122               123                   3   \n",
              "8             122             122               123                   3   \n",
              "9             122             122               123                   1   \n",
              "\n",
              "   histogram_tendency  fetal_health  \n",
              "0                   1             2  \n",
              "1                   0             1  \n",
              "2                   0             1  \n",
              "3                   1             1  \n",
              "4                   1             1  \n",
              "5                   0             3  \n",
              "6                   0             3  \n",
              "7                   1             3  \n",
              "8                   1             3  \n",
              "9                   1             3  \n",
              "\n",
              "[10 rows x 22 columns]"
            ]
          },
          "execution_count": 89,
          "metadata": {},
          "output_type": "execute_result"
        }
      ],
      "source": [
        "fetal_df.head(10)"
      ]
    },
    {
      "cell_type": "markdown",
      "metadata": {
        "id": "kUKa9J6dz-hR"
      },
      "source": [
        "#### (d)"
      ]
    },
    {
      "cell_type": "code",
      "execution_count": 90,
      "metadata": {
        "id": "2xNG_h3wz-hS"
      },
      "outputs": [
        {
          "data": {
            "text/plain": [
              "(2126, 22)"
            ]
          },
          "execution_count": 90,
          "metadata": {},
          "output_type": "execute_result"
        }
      ],
      "source": [
        "fetal_df.shape"
      ]
    },
    {
      "cell_type": "markdown",
      "metadata": {
        "id": "Jy00M5wcz-hS"
      },
      "source": [
        "#### (e)"
      ]
    },
    {
      "cell_type": "markdown",
      "metadata": {
        "id": "TfEQY5rUt2fd"
      },
      "source": [
        "_[Your answer for 1.1(e) goes here]_"
      ]
    },
    {
      "cell_type": "markdown",
      "metadata": {
        "id": "sv2CGUT8uFX3"
      },
      "source": [
        "#### (f)"
      ]
    },
    {
      "cell_type": "markdown",
      "metadata": {
        "id": "tKhYMGeDuLax"
      },
      "source": [
        "There are 2126 total samples."
      ]
    },
    {
      "cell_type": "markdown",
      "metadata": {
        "id": "N0TPsxCauZJ6"
      },
      "source": [
        "#### (g)"
      ]
    },
    {
      "cell_type": "markdown",
      "metadata": {
        "id": "KXYePFTTubbg"
      },
      "source": [
        "21 independent variables.\n",
        "baseline value\n",
        "accelerations\n",
        "fetal_movement\n",
        "uterine_contractions\n",
        "light_decelerations\n",
        "severe_decelerations\n",
        "prolongued_decelerations\n",
        "abnormal_short_term_variability\n",
        "mean_value_of_short_term_variability\n",
        "percentage_of_time_with_abnormal_long_term_variability\n",
        "mean_value_of_long_term_variability\n",
        "histogram_width\n",
        "histogram_min\n",
        "histogram_max\n",
        "histogram_number_of_peaks\n",
        "histogram_number_of_zeroes\n",
        "histogram_mode\n",
        "histogram_mean\n",
        "histogram_median\n",
        "histogram_variance\n",
        "histogram_tendency\n"
      ]
    },
    {
      "cell_type": "markdown",
      "metadata": {
        "id": "hTwCZxwFuhZs"
      },
      "source": [
        "#### (h)"
      ]
    },
    {
      "cell_type": "markdown",
      "metadata": {
        "id": "URok105CuhHF"
      },
      "source": [
        "1 Dependent variable\n",
        "fetal_health"
      ]
    },
    {
      "cell_type": "markdown",
      "metadata": {
        "id": "5XeG2MZFup3y"
      },
      "source": [
        "#### (i)"
      ]
    },
    {
      "cell_type": "markdown",
      "metadata": {
        "id": "5tt7ikfNupvv"
      },
      "source": [
        "n = 2126, p = 21\n"
      ]
    },
    {
      "cell_type": "markdown",
      "metadata": {
        "id": "BOeDxdYOupk-"
      },
      "source": [
        "#### (j)"
      ]
    },
    {
      "cell_type": "markdown",
      "metadata": {
        "id": "A1IqEbduupbQ"
      },
      "source": [
        "n = 2126, m = 1"
      ]
    },
    {
      "cell_type": "markdown",
      "metadata": {
        "id": "gLVO6JSHupOE"
      },
      "source": [
        "#### (k)"
      ]
    },
    {
      "cell_type": "markdown",
      "metadata": {
        "id": "AHbPBjDsuo6j"
      },
      "source": [
        "Some of the variables in the dataset are preprocessed variables, and some are raw variables. This is because some of the variables, such as histogram_tendency, histogram_variance, etc. Are based on the general data obtained from the histograms the raw data produced, whereas some variables such as accelerations, fetal_movement, etc. are variables that are obtained directly from the raw data."
      ]
    },
    {
      "cell_type": "markdown",
      "metadata": {
        "id": "ps849tTTu74M"
      },
      "source": [
        "#### (l)"
      ]
    },
    {
      "cell_type": "code",
      "execution_count": 91,
      "metadata": {},
      "outputs": [
        {
          "name": "stdout",
          "output_type": "stream",
          "text": [
            "Unique values in 'baseline value': [120 132 133 134 122 151 150 131 130 129 128 124 115 114 116 158 156 148\n",
            " 149 146 144 142 136 141 138 140 154 145 139 125 123 159 143 119 121 127\n",
            " 126 118 135 137 147 157 117 152 112 106 110 160]\n",
            "\n",
            "Unique values in 'accelerations': [0.    0.006 0.003 0.007 0.001 0.005 0.009 0.002 0.008 0.004 0.01  0.015\n",
            " 0.013 0.014 0.011 0.017 0.012 0.016 0.019 0.018]\n",
            "\n",
            "Unique values in 'fetal_movement': [0.    0.072 0.222 0.408 0.38  0.441 0.383 0.451 0.469 0.34  0.425 0.334\n",
            " 0.135 0.099 0.108 0.112 0.089 0.103 0.085 0.109 0.079 0.065 0.055 0.058\n",
            " 0.047 0.038 0.012 0.018 0.02  0.005 0.003 0.006 0.001 0.004 0.009 0.01\n",
            " 0.002 0.008 0.007 0.028 0.026 0.107 0.013 0.016 0.029 0.05  0.053 0.011\n",
            " 0.015 0.022 0.021 0.017 0.019 0.025 0.014 0.024 0.023 0.035 0.054 0.03\n",
            " 0.048 0.088 0.043 0.052 0.091 0.033 0.092 0.084 0.115 0.041 0.04  0.027\n",
            " 0.031 0.063 0.06  0.071 0.306 0.298 0.139 0.189 0.157 0.235 0.36  0.455\n",
            " 0.443 0.47  0.477 0.446 0.481 0.369 0.335 0.43  0.346 0.323 0.375 0.353\n",
            " 0.045 0.032 0.051 0.036 0.037 0.049]\n",
            "\n",
            "Unique values in 'uterine_contractions': [0.    0.006 0.008 0.01  0.013 0.002 0.003 0.001 0.004 0.005 0.007 0.009\n",
            " 0.012 0.011 0.015 0.014]\n",
            "\n",
            "Unique values in 'light_decelerations': [0.    0.003 0.009 0.008 0.001 0.002 0.005 0.004 0.012 0.01  0.014 0.006\n",
            " 0.007 0.015 0.011 0.013]\n",
            "\n",
            "Unique values in 'severe_decelerations': [0.    0.001]\n",
            "\n",
            "Unique values in 'prolongued_decelerations': [0.    0.002 0.003 0.001 0.004 0.005]\n",
            "\n",
            "Unique values in 'abnormal_short_term_variability': [73 17 16 26 29 83 84 86 64 28 21 19 24 18 23 30 34 80 87 22 27 40 20 43\n",
            " 61 70 57 58 39 41 33 25 44 46 45 52 53 56 65 36 35 38 62 51 67 68 72 63\n",
            " 60 47 50 69 54 55 66 48 31 32 37 49 59 14 12 13 74 75 77 71 76 79 78 81\n",
            " 42 82 15]\n",
            "\n",
            "Unique values in 'mean_value_of_short_term_variability': [0.5 2.1 2.4 5.9 6.3 0.3 1.9 2.  1.4 1.5 2.3 1.7 2.5 0.4 0.2 4.4 6.  4.5\n",
            " 6.9 2.9 3.4 3.2 3.7 3.6 2.2 1.6 1.8 4.7 4.9 5.  7.  1.3 4.1 5.4 1.2 0.8\n",
            " 1.1 0.9 1.  0.7 2.8 3.9 5.2 4.8 4.3 0.6 5.3 2.6 3.3 3.8 2.7 3.1 5.7 4.\n",
            " 3.5 3.  4.2]\n",
            "\n",
            "Unique values in 'percentage_of_time_with_abnormal_long_term_variability': [43  0  6  5  9  8 79 72 14 71  1 40 69 54 53 38 29 18 21 37 20  2  3 27\n",
            " 67 68 75 74  7 30 49 39 31 32 19 16 11 34 58 13 10 15 12 25 26  4 46 57\n",
            " 33 23 22 51 52 59 78 84 62 24 45 35 41 61 56 44 81 42 77 88 91 47 55 82\n",
            " 86 60 28 17 70 48 50 36 85 64 66 90 73 65 63]\n",
            "\n",
            "Unique values in 'mean_value_of_long_term_variability': [ 2.4 10.4 13.4 23.  19.9  0.  15.6 13.6 10.6 27.6 29.5 12.9  5.4  7.9\n",
            "  8.7 10.9 13.9  8.8  7.8  8.5  6.7  4.   6.8  2.9  4.8  3.4 10.5  5.\n",
            " 12.5  6.3 15.1 21.7 12.4 24.2 18.8 16.2 19.6 12.2 13.5 13.3 11.4 15.2\n",
            " 15.7 22.1 21.1 16.6 14.9 12.8 22.2  3.3  6.2  5.1 13.2  5.5  6.4  5.2\n",
            " 11.6 11.2  5.7 11.9 10.3 13.  11.5 17.7 22.3 21.3 25.9 18.4 15.8  1.2\n",
            " 23.4  7.1  6.5  4.9  5.3  4.5  4.6  9.5 14.6 17.3 11.  17.2 13.1 12.1\n",
            " 19.3  4.4 10.1 19.4  5.8  3.9  2.1  7.4  3.1  3.8  4.7 10.8  8.   8.6\n",
            "  4.3  7.2  9.1  8.1 26.3 12.7 35.7 16.9 18.   9.   9.6  8.3 11.3  8.9\n",
            "  3.7  3.2  8.4  8.2 41.8 50.7 25.8 15.9  5.6 10.7 14.  10.  14.1 14.3\n",
            " 15.3 23.3 12.3  9.8  7.7  7.  14.8  7.6  7.5  2.5  6.1 17.9 12.6 15.4\n",
            " 13.8  3.5 18.7 11.7  0.9  1.3 15.5 14.2  9.3  9.2  9.7 19.7 14.5  3.6\n",
            "  6.9  2.8  7.3 16.4 16.7  4.2  9.4 11.8  9.9  6.6  3.  28.4 21.4 18.5\n",
            " 19.  16.1 10.2 11.1 14.4 20.5  4.1  1.6 29.6 29.3 23.1 34.7 27.3 16.\n",
            " 20.   5.9 18.9 17.1  2.7 19.8 24.7 21.5 25.6 26.1  1.4 36.9 29.  28.\n",
            " 17.   6.  16.5 23.8 40.8 25.2  1.9 21.9  2.   1.7 12.  18.1 20.8 17.6\n",
            " 15.  13.7 24.1 17.5 22.5 27.  17.8 20.4 29.1 28.9  2.3  0.5 25.3 22.7\n",
            " 24.9 19.1 25.1 25.4 16.3  2.2 14.7 17.4 23.6  0.4  0.7 19.2  1.8  0.6\n",
            "  1.1  2.6 33.5 27.4  0.3  0.2  1.  21.   0.1  1.5  0.8]\n",
            "\n",
            "Unique values in 'histogram_width': [ 64 130 117 150  68  66  87 107 125  99 112 128 141 145  16  12  24  10\n",
            " 143 149 144 126 134 138 129  98  93 142 148 120  55  31  18  20 100  44\n",
            "  28  26 111 103  60  37  30 104 108  92 119 140 109 136 113  15  17  25\n",
            "  21  35  83  96  84  29  82 105  62 122 118  54 146  53  56  94  85  77\n",
            "  91  11  23  40  42  22 147  90 121 106  52  48  46  39  33  34  81  65\n",
            "  57 124  72  89 139 127  19  27  69  63  75  38  80  36  71  74  14   8\n",
            " 110  76  79  58 114   7  78   9   5  97 132  13  95  41  47 123  51 135\n",
            " 102 116  86 115 133  88  45  43 137  67  59  32 131 101  70  49  73   3\n",
            "   6  61  50 162 176 161 153 163 158 180]\n",
            "\n",
            "Unique values in 'histogram_min': [ 62  68  53  50  56  88  71  67  59  65  54  57 114 118 122  55  51  52\n",
            "  77 142 130 136  58 148 143  78 134  74  81 119 132 138  60  63  73 135\n",
            " 139 128 121 101  72  97 117  80 111  95  92  75  61 153 156 159 133 149\n",
            " 147 146 155  93 115 113 116  83  86  91  69 129 140 145 103 109 112  90\n",
            "  82 125  64 120  89 141 107 106 110  66 131 144 126 137 108  99 151 154\n",
            " 123  70 102  98 124  79  84 127  76 158 100 105  96  94 152 150  87  85\n",
            " 104]\n",
            "\n",
            "Unique values in 'histogram_max': [126 198 170 200 130 186 154 158 174 178 177 182 199 146 128 191 193 194\n",
            " 181 195 188 153 148 197 161 184 166 163 171 156 185 180 179 169 168 172\n",
            " 176 196 187 167 152 165 150 142 189 144 138 173 183 141 147 149 143 192\n",
            " 135 151 133 131 136 145 175 140 137 139 129 160 159 155 164 190 157 162\n",
            " 134 132 127 213 210 125 123 122 238 205 204 211 228 230]\n",
            "\n",
            "Unique values in 'histogram_number_of_peaks': [ 2  6  5 11  9  0  1  7  3 13 10  8  4 12 14 15 16 18]\n",
            "\n",
            "Unique values in 'histogram_number_of_zeroes': [ 0  1  3  2  4 10  5  8  7]\n",
            "\n",
            "Unique values in 'histogram_mode': [120 141 137  76  71 122 150 135 143 134 133 129  75 126 128 124 123 121\n",
            " 125 119 117 127 116 170 151 154 149 147 140 142 153 162 156 144 146 152\n",
            " 148 145 167 165 161 131 132 136 139 114 163 159 138 158 157 186 187 180\n",
            " 176 115 160  90 108  97 130 155 107 112 109 110 169  99  86 106 113 111\n",
            "  98  95  91  88 164  89 179 105  67  60 100  93  77 103 104  69]\n",
            "\n",
            "Unique values in 'histogram_mean': [137 136 135 134 107 122 148 125 127 128 124 129 104  99 126 123 119 113\n",
            " 120 112 116 115 117 118 168 171 142 131 152 155 153 154 145 140 143 156\n",
            " 158 157 147 150 164 163 151 149 130 132 114 105 162 165 169 172 167 161\n",
            " 146 121 133 160 141 144 139 138 159 166 178 180 182 175 173  98  90  87\n",
            " 106 110 109 108 111  91 103 101  83  84  78  85  82 100 170 102  97  92\n",
            "  93  95  81  79  76  89  88  75  94  96  86  80  73]\n",
            "\n",
            "Unique values in 'histogram_median': [121 140 138 137 107 106 123 151 141 135 133 132 129 120 102 125 127 117\n",
            " 126 115 130 118 119 124 170 172 152 136 154 150 156 155 147 144 159 160\n",
            " 153 149 158 166 165 148 145 157 128 134 113 164 174 168 162 163 139 122\n",
            " 161 131 143 146 142 169 180 183 186 178 171 176 177 116  91 167  78  77\n",
            " 112 114 111 110  86  79 108 105 109  95  94  97 101  98  93  99 100  92\n",
            "  87  90  82 103 104]\n",
            "\n",
            "Unique values in 'histogram_variance': [ 73  12  13  11 170 215   3   1   9  10   7  76  43  70  45  36  27 138\n",
            "  34 148   0  89  56  66  35  25  24  21  19  14  23  28  75  72 108   8\n",
            "   4   2   5  18  15   6  16  55  20  86  60 117  39  30 137  65  41 136\n",
            "  38 157 106 177  52  29  54  44  37  42  17  22  26  33  53  62  74  69\n",
            "  79  83 100  31  49  51  95  61  47  68  40 104  48 103 129  57  85  46\n",
            "  32  82  91  90  92  64  63  59 127 114  78  84  94  97  80  71 101 126\n",
            " 134 144  50  87 115  96 116  77 119 110  98 113 195 182 128  88 109 121\n",
            " 269 250 254 243 241 190 147]\n",
            "\n",
            "Unique values in 'histogram_tendency': [ 1  0 -1]\n",
            "\n",
            "Unique values in 'fetal_health': [2 1 3]\n",
            "\n"
          ]
        }
      ],
      "source": [
        "for column in fetal_df.columns:\n",
        "    unique_values = pd.unique(fetal_df[column])\n",
        "    print(f\"Unique values in '{column}': {unique_values}\\n\")"
      ]
    },
    {
      "cell_type": "markdown",
      "metadata": {
        "id": "240_-4A5u8oB"
      },
      "source": [
        "histogram_tendency\n",
        "fetal_health\n",
        "\n",
        "These are the only categorical variables because the rest of the variables have continuous values that do not have specific bins.\n"
      ]
    },
    {
      "cell_type": "markdown",
      "metadata": {
        "id": "avTEhBQLvMtw"
      },
      "source": [
        "#### (m)"
      ]
    },
    {
      "cell_type": "markdown",
      "metadata": {
        "id": "r1psH--XvMV8"
      },
      "source": [
        "The histogram_tendency variable goes by nominal encoding, where the numbers don't have a specific meaning. The fetal_health variable goes by ordinal encoding because the unique values represent categories of fetal health, with 1 being the healthiest and 3 being the least healthy."
      ]
    },
    {
      "cell_type": "markdown",
      "metadata": {
        "id": "qVW9ov3kvMRj"
      },
      "source": [
        "#### (n)"
      ]
    },
    {
      "cell_type": "code",
      "execution_count": 92,
      "metadata": {
        "id": "zV2P8n4pvUQT"
      },
      "outputs": [
        {
          "name": "stdout",
          "output_type": "stream",
          "text": [
            "Normal:  1655\n",
            "Suspect:  295\n",
            "Pathological:  176\n"
          ]
        }
      ],
      "source": [
        "normal = fetal_df[fetal_df['fetal_health'] == 1].count().values[0]\n",
        "suspect = fetal_df[fetal_df['fetal_health'] == 2].count().values[0]\n",
        "pathological = fetal_df[fetal_df['fetal_health'] == 3].count().values[0]\n",
        "print(\"Normal: \",normal)\n",
        "print(\"Suspect: \",suspect)\n",
        "print(\"Pathological: \",pathological)\n"
      ]
    },
    {
      "cell_type": "markdown",
      "metadata": {
        "id": "z8lTzSQFwqI1"
      },
      "source": [
        "## **Dirty Dataset**"
      ]
    },
    {
      "cell_type": "code",
      "execution_count": 93,
      "metadata": {
        "id": "hAMx9uwbw8rV"
      },
      "outputs": [],
      "source": [
        "# load the dirty dataset csv file into a pandas dataframe\n",
        "\n",
        "fetal_dirty_df = pd.read_csv('data/fetal_health_dataset_dirty.csv') "
      ]
    },
    {
      "cell_type": "markdown",
      "metadata": {
        "id": "nOJPywDYz-hT"
      },
      "source": [
        "### Problem 1.2"
      ]
    },
    {
      "cell_type": "markdown",
      "metadata": {
        "id": "UTf6Yiqjz-hT"
      },
      "source": [
        "#### (a)"
      ]
    },
    {
      "cell_type": "code",
      "execution_count": 94,
      "metadata": {
        "id": "qOPVMIawz-hU"
      },
      "outputs": [
        {
          "data": {
            "text/plain": [
              "baseline value                                            47\n",
              "accelerations                                              0\n",
              "fetal_movement                                             0\n",
              "uterine_contractions                                       0\n",
              "light_decelerations                                        0\n",
              "severe_decelerations                                       0\n",
              "prolongued_decelerations                                   0\n",
              "abnormal_short_term_variability                            0\n",
              "mean_value_of_short_term_variability                       0\n",
              "percentage_of_time_with_abnormal_long_term_variability    10\n",
              "mean_value_of_long_term_variability                        0\n",
              "histogram_width                                            0\n",
              "histogram_min                                              0\n",
              "histogram_max                                             24\n",
              "histogram_number_of_peaks                                  0\n",
              "histogram_number_of_zeroes                                 0\n",
              "histogram_mode                                             5\n",
              "histogram_mean                                             0\n",
              "histogram_median                                           0\n",
              "histogram_variance                                         0\n",
              "histogram_tendency                                         0\n",
              "fetal_health                                               0\n",
              "dtype: int64"
            ]
          },
          "execution_count": 94,
          "metadata": {},
          "output_type": "execute_result"
        }
      ],
      "source": [
        "fetal_dirty_df.isna().sum()"
      ]
    },
    {
      "cell_type": "markdown",
      "metadata": {
        "id": "CrZQxH5hz-hU"
      },
      "source": [
        "#### (b)"
      ]
    },
    {
      "cell_type": "code",
      "execution_count": 95,
      "metadata": {
        "id": "ESSjRnLCz-hU"
      },
      "outputs": [
        {
          "data": {
            "text/plain": [
              "['baseline value',\n",
              " 'percentage_of_time_with_abnormal_long_term_variability',\n",
              " 'histogram_max',\n",
              " 'histogram_mode']"
            ]
          },
          "execution_count": 95,
          "metadata": {},
          "output_type": "execute_result"
        }
      ],
      "source": [
        "fetal_dirty_df.columns[fetal_dirty_df.isna().sum() != 0].tolist()"
      ]
    },
    {
      "cell_type": "markdown",
      "metadata": {
        "id": "hWh95Fiyz-hU"
      },
      "source": [
        "#### (c)"
      ]
    },
    {
      "cell_type": "code",
      "execution_count": 96,
      "metadata": {
        "id": "VZ9EtxC-z-hV"
      },
      "outputs": [
        {
          "data": {
            "text/plain": [
              "86"
            ]
          },
          "execution_count": 96,
          "metadata": {},
          "output_type": "execute_result"
        }
      ],
      "source": [
        "fetal_dirty_df[fetal_dirty_df.isna().any(axis=1)].shape[0]"
      ]
    },
    {
      "cell_type": "markdown",
      "metadata": {
        "id": "OYDjQvfFxnQw"
      },
      "source": [
        "### Problem 1.3"
      ]
    },
    {
      "cell_type": "code",
      "execution_count": 114,
      "metadata": {
        "id": "5YCLwVJuxrXG"
      },
      "outputs": [
        {
          "data": {
            "text/html": [
              "<div>\n",
              "<style scoped>\n",
              "    .dataframe tbody tr th:only-of-type {\n",
              "        vertical-align: middle;\n",
              "    }\n",
              "\n",
              "    .dataframe tbody tr th {\n",
              "        vertical-align: top;\n",
              "    }\n",
              "\n",
              "    .dataframe thead th {\n",
              "        text-align: right;\n",
              "    }\n",
              "</style>\n",
              "<table border=\"1\" class=\"dataframe\">\n",
              "  <thead>\n",
              "    <tr style=\"text-align: right;\">\n",
              "      <th></th>\n",
              "      <th>baseline value</th>\n",
              "      <th>accelerations</th>\n",
              "      <th>fetal_movement</th>\n",
              "      <th>uterine_contractions</th>\n",
              "      <th>light_decelerations</th>\n",
              "      <th>severe_decelerations</th>\n",
              "      <th>prolongued_decelerations</th>\n",
              "      <th>abnormal_short_term_variability</th>\n",
              "      <th>mean_value_of_short_term_variability</th>\n",
              "      <th>percentage_of_time_with_abnormal_long_term_variability</th>\n",
              "      <th>...</th>\n",
              "      <th>histogram_min</th>\n",
              "      <th>histogram_max</th>\n",
              "      <th>histogram_number_of_peaks</th>\n",
              "      <th>histogram_number_of_zeroes</th>\n",
              "      <th>histogram_mode</th>\n",
              "      <th>histogram_mean</th>\n",
              "      <th>histogram_median</th>\n",
              "      <th>histogram_variance</th>\n",
              "      <th>histogram_tendency</th>\n",
              "      <th>fetal_health</th>\n",
              "    </tr>\n",
              "  </thead>\n",
              "  <tbody>\n",
              "    <tr>\n",
              "      <th>91</th>\n",
              "      <td>148.0</td>\n",
              "      <td>0.000</td>\n",
              "      <td>0.000</td>\n",
              "      <td>0.000</td>\n",
              "      <td>0.000</td>\n",
              "      <td>0.0</td>\n",
              "      <td>0.0</td>\n",
              "      <td>67.0</td>\n",
              "      <td>0.4</td>\n",
              "      <td>67.0</td>\n",
              "      <td>...</td>\n",
              "      <td>139.0</td>\n",
              "      <td>154.0</td>\n",
              "      <td>4.0</td>\n",
              "      <td>0.0</td>\n",
              "      <td>150.0</td>\n",
              "      <td>149.0</td>\n",
              "      <td>151.0</td>\n",
              "      <td>0.0</td>\n",
              "      <td>1.0</td>\n",
              "      <td>2.0</td>\n",
              "    </tr>\n",
              "    <tr>\n",
              "      <th>92</th>\n",
              "      <td>148.0</td>\n",
              "      <td>0.000</td>\n",
              "      <td>0.003</td>\n",
              "      <td>0.000</td>\n",
              "      <td>0.000</td>\n",
              "      <td>0.0</td>\n",
              "      <td>0.0</td>\n",
              "      <td>70.0</td>\n",
              "      <td>0.3</td>\n",
              "      <td>68.0</td>\n",
              "      <td>...</td>\n",
              "      <td>136.0</td>\n",
              "      <td>153.0</td>\n",
              "      <td>2.0</td>\n",
              "      <td>0.0</td>\n",
              "      <td>150.0</td>\n",
              "      <td>148.0</td>\n",
              "      <td>150.0</td>\n",
              "      <td>0.0</td>\n",
              "      <td>1.0</td>\n",
              "      <td>2.0</td>\n",
              "    </tr>\n",
              "    <tr>\n",
              "      <th>93</th>\n",
              "      <td>NaN</td>\n",
              "      <td>0.000</td>\n",
              "      <td>0.000</td>\n",
              "      <td>0.000</td>\n",
              "      <td>0.000</td>\n",
              "      <td>0.0</td>\n",
              "      <td>0.0</td>\n",
              "      <td>68.0</td>\n",
              "      <td>0.3</td>\n",
              "      <td>75.0</td>\n",
              "      <td>...</td>\n",
              "      <td>128.0</td>\n",
              "      <td>NaN</td>\n",
              "      <td>3.0</td>\n",
              "      <td>0.0</td>\n",
              "      <td>150.0</td>\n",
              "      <td>149.0</td>\n",
              "      <td>151.0</td>\n",
              "      <td>0.0</td>\n",
              "      <td>1.0</td>\n",
              "      <td>3.0</td>\n",
              "    </tr>\n",
              "    <tr>\n",
              "      <th>94</th>\n",
              "      <td>148.0</td>\n",
              "      <td>0.000</td>\n",
              "      <td>0.005</td>\n",
              "      <td>0.002</td>\n",
              "      <td>0.000</td>\n",
              "      <td>0.0</td>\n",
              "      <td>0.0</td>\n",
              "      <td>72.0</td>\n",
              "      <td>0.3</td>\n",
              "      <td>74.0</td>\n",
              "      <td>...</td>\n",
              "      <td>136.0</td>\n",
              "      <td>152.0</td>\n",
              "      <td>0.0</td>\n",
              "      <td>0.0</td>\n",
              "      <td>150.0</td>\n",
              "      <td>148.0</td>\n",
              "      <td>150.0</td>\n",
              "      <td>0.0</td>\n",
              "      <td>1.0</td>\n",
              "      <td>3.0</td>\n",
              "    </tr>\n",
              "    <tr>\n",
              "      <th>95</th>\n",
              "      <td>148.0</td>\n",
              "      <td>0.000</td>\n",
              "      <td>0.000</td>\n",
              "      <td>0.000</td>\n",
              "      <td>0.000</td>\n",
              "      <td>0.0</td>\n",
              "      <td>0.0</td>\n",
              "      <td>58.0</td>\n",
              "      <td>0.5</td>\n",
              "      <td>7.0</td>\n",
              "      <td>...</td>\n",
              "      <td>135.0</td>\n",
              "      <td>156.0</td>\n",
              "      <td>1.0</td>\n",
              "      <td>0.0</td>\n",
              "      <td>150.0</td>\n",
              "      <td>149.0</td>\n",
              "      <td>151.0</td>\n",
              "      <td>1.0</td>\n",
              "      <td>1.0</td>\n",
              "      <td>1.0</td>\n",
              "    </tr>\n",
              "    <tr>\n",
              "      <th>96</th>\n",
              "      <td>148.0</td>\n",
              "      <td>0.000</td>\n",
              "      <td>0.000</td>\n",
              "      <td>0.000</td>\n",
              "      <td>0.000</td>\n",
              "      <td>0.0</td>\n",
              "      <td>0.0</td>\n",
              "      <td>63.0</td>\n",
              "      <td>0.4</td>\n",
              "      <td>30.0</td>\n",
              "      <td>...</td>\n",
              "      <td>121.0</td>\n",
              "      <td>156.0</td>\n",
              "      <td>3.0</td>\n",
              "      <td>1.0</td>\n",
              "      <td>150.0</td>\n",
              "      <td>149.0</td>\n",
              "      <td>151.0</td>\n",
              "      <td>1.0</td>\n",
              "      <td>1.0</td>\n",
              "      <td>2.0</td>\n",
              "    </tr>\n",
              "    <tr>\n",
              "      <th>97</th>\n",
              "      <td>148.0</td>\n",
              "      <td>0.000</td>\n",
              "      <td>0.001</td>\n",
              "      <td>0.000</td>\n",
              "      <td>0.001</td>\n",
              "      <td>0.0</td>\n",
              "      <td>0.0</td>\n",
              "      <td>60.0</td>\n",
              "      <td>0.5</td>\n",
              "      <td>49.0</td>\n",
              "      <td>...</td>\n",
              "      <td>78.0</td>\n",
              "      <td>161.0</td>\n",
              "      <td>3.0</td>\n",
              "      <td>0.0</td>\n",
              "      <td>154.0</td>\n",
              "      <td>152.0</td>\n",
              "      <td>154.0</td>\n",
              "      <td>1.0</td>\n",
              "      <td>1.0</td>\n",
              "      <td>2.0</td>\n",
              "    </tr>\n",
              "    <tr>\n",
              "      <th>98</th>\n",
              "      <td>148.0</td>\n",
              "      <td>0.000</td>\n",
              "      <td>0.001</td>\n",
              "      <td>0.000</td>\n",
              "      <td>0.001</td>\n",
              "      <td>0.0</td>\n",
              "      <td>0.0</td>\n",
              "      <td>61.0</td>\n",
              "      <td>0.5</td>\n",
              "      <td>39.0</td>\n",
              "      <td>...</td>\n",
              "      <td>130.0</td>\n",
              "      <td>161.0</td>\n",
              "      <td>2.0</td>\n",
              "      <td>0.0</td>\n",
              "      <td>154.0</td>\n",
              "      <td>152.0</td>\n",
              "      <td>154.0</td>\n",
              "      <td>1.0</td>\n",
              "      <td>1.0</td>\n",
              "      <td>2.0</td>\n",
              "    </tr>\n",
              "    <tr>\n",
              "      <th>99</th>\n",
              "      <td>125.0</td>\n",
              "      <td>0.010</td>\n",
              "      <td>0.007</td>\n",
              "      <td>0.002</td>\n",
              "      <td>0.000</td>\n",
              "      <td>0.0</td>\n",
              "      <td>0.0</td>\n",
              "      <td>19.0</td>\n",
              "      <td>1.9</td>\n",
              "      <td>0.0</td>\n",
              "      <td>...</td>\n",
              "      <td>101.0</td>\n",
              "      <td>197.0</td>\n",
              "      <td>8.0</td>\n",
              "      <td>1.0</td>\n",
              "      <td>133.0</td>\n",
              "      <td>131.0</td>\n",
              "      <td>133.0</td>\n",
              "      <td>5.0</td>\n",
              "      <td>-1.0</td>\n",
              "      <td>1.0</td>\n",
              "    </tr>\n",
              "    <tr>\n",
              "      <th>100</th>\n",
              "      <td>125.0</td>\n",
              "      <td>0.005</td>\n",
              "      <td>0.000</td>\n",
              "      <td>0.002</td>\n",
              "      <td>0.003</td>\n",
              "      <td>0.0</td>\n",
              "      <td>0.0</td>\n",
              "      <td>25.0</td>\n",
              "      <td>1.7</td>\n",
              "      <td>6.0</td>\n",
              "      <td>...</td>\n",
              "      <td>72.0</td>\n",
              "      <td>165.0</td>\n",
              "      <td>3.0</td>\n",
              "      <td>0.0</td>\n",
              "      <td>133.0</td>\n",
              "      <td>128.0</td>\n",
              "      <td>132.0</td>\n",
              "      <td>10.0</td>\n",
              "      <td>0.0</td>\n",
              "      <td>1.0</td>\n",
              "    </tr>\n",
              "  </tbody>\n",
              "</table>\n",
              "<p>10 rows × 22 columns</p>\n",
              "</div>"
            ],
            "text/plain": [
              "     baseline value  accelerations  fetal_movement  uterine_contractions  \\\n",
              "91            148.0          0.000           0.000                 0.000   \n",
              "92            148.0          0.000           0.003                 0.000   \n",
              "93              NaN          0.000           0.000                 0.000   \n",
              "94            148.0          0.000           0.005                 0.002   \n",
              "95            148.0          0.000           0.000                 0.000   \n",
              "96            148.0          0.000           0.000                 0.000   \n",
              "97            148.0          0.000           0.001                 0.000   \n",
              "98            148.0          0.000           0.001                 0.000   \n",
              "99            125.0          0.010           0.007                 0.002   \n",
              "100           125.0          0.005           0.000                 0.002   \n",
              "\n",
              "     light_decelerations  severe_decelerations  prolongued_decelerations  \\\n",
              "91                 0.000                   0.0                       0.0   \n",
              "92                 0.000                   0.0                       0.0   \n",
              "93                 0.000                   0.0                       0.0   \n",
              "94                 0.000                   0.0                       0.0   \n",
              "95                 0.000                   0.0                       0.0   \n",
              "96                 0.000                   0.0                       0.0   \n",
              "97                 0.001                   0.0                       0.0   \n",
              "98                 0.001                   0.0                       0.0   \n",
              "99                 0.000                   0.0                       0.0   \n",
              "100                0.003                   0.0                       0.0   \n",
              "\n",
              "     abnormal_short_term_variability  mean_value_of_short_term_variability  \\\n",
              "91                              67.0                                   0.4   \n",
              "92                              70.0                                   0.3   \n",
              "93                              68.0                                   0.3   \n",
              "94                              72.0                                   0.3   \n",
              "95                              58.0                                   0.5   \n",
              "96                              63.0                                   0.4   \n",
              "97                              60.0                                   0.5   \n",
              "98                              61.0                                   0.5   \n",
              "99                              19.0                                   1.9   \n",
              "100                             25.0                                   1.7   \n",
              "\n",
              "     percentage_of_time_with_abnormal_long_term_variability  ...  \\\n",
              "91                                                67.0       ...   \n",
              "92                                                68.0       ...   \n",
              "93                                                75.0       ...   \n",
              "94                                                74.0       ...   \n",
              "95                                                 7.0       ...   \n",
              "96                                                30.0       ...   \n",
              "97                                                49.0       ...   \n",
              "98                                                39.0       ...   \n",
              "99                                                 0.0       ...   \n",
              "100                                                6.0       ...   \n",
              "\n",
              "     histogram_min  histogram_max  histogram_number_of_peaks  \\\n",
              "91           139.0          154.0                        4.0   \n",
              "92           136.0          153.0                        2.0   \n",
              "93           128.0            NaN                        3.0   \n",
              "94           136.0          152.0                        0.0   \n",
              "95           135.0          156.0                        1.0   \n",
              "96           121.0          156.0                        3.0   \n",
              "97            78.0          161.0                        3.0   \n",
              "98           130.0          161.0                        2.0   \n",
              "99           101.0          197.0                        8.0   \n",
              "100           72.0          165.0                        3.0   \n",
              "\n",
              "     histogram_number_of_zeroes  histogram_mode  histogram_mean  \\\n",
              "91                          0.0           150.0           149.0   \n",
              "92                          0.0           150.0           148.0   \n",
              "93                          0.0           150.0           149.0   \n",
              "94                          0.0           150.0           148.0   \n",
              "95                          0.0           150.0           149.0   \n",
              "96                          1.0           150.0           149.0   \n",
              "97                          0.0           154.0           152.0   \n",
              "98                          0.0           154.0           152.0   \n",
              "99                          1.0           133.0           131.0   \n",
              "100                         0.0           133.0           128.0   \n",
              "\n",
              "     histogram_median  histogram_variance  histogram_tendency  fetal_health  \n",
              "91              151.0                 0.0                 1.0           2.0  \n",
              "92              150.0                 0.0                 1.0           2.0  \n",
              "93              151.0                 0.0                 1.0           3.0  \n",
              "94              150.0                 0.0                 1.0           3.0  \n",
              "95              151.0                 1.0                 1.0           1.0  \n",
              "96              151.0                 1.0                 1.0           2.0  \n",
              "97              154.0                 1.0                 1.0           2.0  \n",
              "98              154.0                 1.0                 1.0           2.0  \n",
              "99              133.0                 5.0                -1.0           1.0  \n",
              "100             132.0                10.0                 0.0           1.0  \n",
              "\n",
              "[10 rows x 22 columns]"
            ]
          },
          "execution_count": 114,
          "metadata": {},
          "output_type": "execute_result"
        }
      ],
      "source": [
        "fetal_dirty_df.loc[fetal_dirty_df['baseline value'] < 106,'baseline value'] = np.nan\n",
        "fetal_dirty_df.loc[fetal_dirty_df['baseline value'] > 160,'baseline value'] = np.nan\n",
        "\n",
        "fetal_dirty_df.loc[fetal_dirty_df['accelerations'] < 0,'accelerations'] = np.nan\n",
        "fetal_dirty_df.loc[fetal_dirty_df['accelerations'] > 0.02,'accelerations'] = np.nan\n",
        "\n",
        "fetal_dirty_df.loc[fetal_dirty_df['fetal_movement'] < 0,'fetal_movement'] = np.nan\n",
        "fetal_dirty_df.loc[fetal_dirty_df['fetal_movement'] > 0.48,'fetal_movement'] = np.nan\n",
        "\n",
        "fetal_dirty_df.loc[fetal_dirty_df['uterine_contractions'] < 0,'uterine_contractions'] = np.nan\n",
        "fetal_dirty_df.loc[fetal_dirty_df['uterine_contractions'] > 0.01,'uterine_contractions'] = np.nan\n",
        "\n",
        "fetal_dirty_df.loc[fetal_dirty_df['light_decelerations'] < 0,'light_decelerations'] = np.nan\n",
        "fetal_dirty_df.loc[fetal_dirty_df['light_decelerations'] > 0.01,'light_decelerations'] = np.nan\n",
        "\n",
        "fetal_dirty_df.loc[fetal_dirty_df['severe_decelerations'] < 0,'severe_decelerations'] = np.nan\n",
        "fetal_dirty_df.loc[fetal_dirty_df['severe_decelerations'] > 0,'severe_decelerations'] = np.nan\n",
        "\n",
        "fetal_dirty_df.loc[fetal_dirty_df['prolongued_decelerations'] < 0,'prolongued_decelerations'] = np.nan\n",
        "fetal_dirty_df.loc[fetal_dirty_df['prolongued_decelerations'] > 0.01,'prolongued_decelerations'] = np.nan\n",
        "\n",
        "fetal_dirty_df.loc[fetal_dirty_df['abnormal_short_term_variability'] < 12,'abnormal_short_term_variability'] = np.nan\n",
        "fetal_dirty_df.loc[fetal_dirty_df['abnormal_short_term_variability'] > 87,'abnormal_short_term_variability'] = np.nan\n",
        "\n",
        "fetal_dirty_df.loc[fetal_dirty_df['mean_value_of_short_term_variability'] < 0.2,'mean_value_of_short_term_variability'] = np.nan\n",
        "fetal_dirty_df.loc[fetal_dirty_df['mean_value_of_short_term_variability'] > 7,'mean_value_of_short_term_variability'] = np.nan\n",
        "\n",
        "fetal_dirty_df.loc[fetal_dirty_df['percentage_of_time_with_abnormal_long_term_variability'] < 0,'percentage_of_time_with_abnormal_long_term_variability'] = np.nan\n",
        "fetal_dirty_df.loc[fetal_dirty_df['percentage_of_time_with_abnormal_long_term_variability'] > 91,'percentage_of_time_with_abnormal_long_term_variability'] = np.nan\n",
        "\n",
        "fetal_dirty_df.loc[fetal_dirty_df['mean_value_of_long_term_variability'] < 0,'mean_value_of_long_term_variability'] = np.nan\n",
        "fetal_dirty_df.loc[fetal_dirty_df['mean_value_of_long_term_variability'] > 50.7,'mean_value_of_long_term_variability'] = np.nan\n",
        "\n",
        "fetal_dirty_df.loc[fetal_dirty_df['histogram_width'] < 3,'histogram_width'] = np.nan\n",
        "fetal_dirty_df.loc[fetal_dirty_df['histogram_width'] > 180,'histogram_width'] = np.nan\n",
        "\n",
        "fetal_dirty_df.loc[fetal_dirty_df['histogram_min'] < 50,'histogram_min'] = np.nan\n",
        "fetal_dirty_df.loc[fetal_dirty_df['histogram_min'] > 159,'histogram_min'] = np.nan\n",
        "\n",
        "fetal_dirty_df.loc[fetal_dirty_df['histogram_max'] < 122,'histogram_max'] = np.nan\n",
        "fetal_dirty_df.loc[fetal_dirty_df['histogram_max'] > 238,'histogram_max'] = np.nan\n",
        "\n",
        "fetal_dirty_df.loc[fetal_dirty_df['histogram_number_of_peaks'] < 0,'histogram_number_of_peaks'] = np.nan\n",
        "fetal_dirty_df.loc[fetal_dirty_df['histogram_number_of_peaks'] > 18,'histogram_number_of_peaks'] = np.nan\n",
        "\n",
        "fetal_dirty_df.loc[fetal_dirty_df['histogram_number_of_zeroes'] < 0,'histogram_number_of_zeroes'] = np.nan\n",
        "fetal_dirty_df.loc[fetal_dirty_df['histogram_number_of_zeroes'] > 10,'histogram_number_of_zeroes'] = np.nan\n",
        "\n",
        "fetal_dirty_df.loc[fetal_dirty_df['histogram_mode'] < 60,'histogram_mode'] = np.nan\n",
        "fetal_dirty_df.loc[fetal_dirty_df['histogram_mode'] > 187,'histogram_mode'] = np.nan\n",
        "\n",
        "fetal_dirty_df.loc[fetal_dirty_df['histogram_mean'] < 73,'histogram_mean'] = np.nan\n",
        "fetal_dirty_df.loc[fetal_dirty_df['histogram_mean'] > 182,'histogram_mean'] = np.nan\n",
        "\n",
        "fetal_dirty_df.loc[fetal_dirty_df['histogram_median'] < 77,'histogram_median'] = np.nan\n",
        "fetal_dirty_df.loc[fetal_dirty_df['histogram_median'] > 186,'histogram_median'] = np.nan\n",
        "\n",
        "fetal_dirty_df.loc[fetal_dirty_df['histogram_variance'] < 0,'histogram_variance'] = np.nan\n",
        "fetal_dirty_df.loc[fetal_dirty_df['histogram_variance'] > 269,'histogram_variance'] = np.nan\n",
        "\n",
        "fetal_dirty_df.loc[fetal_dirty_df['histogram_tendency'] < -1,'histogram_tendency'] = np.nan\n",
        "fetal_dirty_df.loc[fetal_dirty_df['histogram_tendency'] > 1,'histogram_tendency'] = np.nan\n",
        "\n",
        "fetal_dirty_df.loc[fetal_dirty_df['fetal_health'] < 1,'fetal_health'] = np.nan\n",
        "fetal_dirty_df.loc[fetal_dirty_df['fetal_health'] > 3,'fetal_health'] = np.nan\n",
        "fetal_dirty_df.loc[91:100]"
      ]
    },
    {
      "cell_type": "markdown",
      "metadata": {
        "id": "zpP3WEH6xw9b"
      },
      "source": [
        "_[Your justification for 1.3 goes here]_"
      ]
    },
    {
      "cell_type": "markdown",
      "metadata": {
        "id": "OqxjckzSz-hV"
      },
      "source": [
        "### Problem 1.4"
      ]
    },
    {
      "cell_type": "code",
      "execution_count": 98,
      "metadata": {
        "id": "IPw21Smex-cV"
      },
      "outputs": [],
      "source": [
        "### Your code for 1.4 goes here ###"
      ]
    },
    {
      "cell_type": "markdown",
      "metadata": {
        "id": "bgxDFuA3z-hW"
      },
      "source": [
        "### Problem 1.5"
      ]
    },
    {
      "cell_type": "code",
      "execution_count": 99,
      "metadata": {
        "id": "-0v14ybDz-hW"
      },
      "outputs": [],
      "source": [
        "### Your code for 1.5 goes here ###"
      ]
    },
    {
      "cell_type": "markdown",
      "metadata": {
        "id": "RRrpdSTJyGt1"
      },
      "source": [
        "### Problem 1.6"
      ]
    },
    {
      "cell_type": "code",
      "execution_count": 100,
      "metadata": {
        "id": "Ctwd0h7XyG8k"
      },
      "outputs": [],
      "source": [
        "### Your code for 1.6 goes here ###"
      ]
    },
    {
      "cell_type": "markdown",
      "metadata": {
        "id": "E8hZzOSvymHL"
      },
      "source": [
        "# **2. Heart Failure Prediction Dataset**"
      ]
    },
    {
      "cell_type": "markdown",
      "metadata": {
        "id": "5YpfhDVMymHM"
      },
      "source": [
        "## Problem 2.1"
      ]
    },
    {
      "cell_type": "code",
      "execution_count": 101,
      "metadata": {
        "id": "xD1GcvD4ymHM"
      },
      "outputs": [],
      "source": [
        "# load the dataset csv file into a pandas dataframe\n",
        "\n",
        "### heart_df = pd.read_csv('heart_failure_dataset.csv') ###"
      ]
    },
    {
      "cell_type": "markdown",
      "metadata": {
        "id": "1EQWwLbvymHN"
      },
      "source": [
        "### (a)"
      ]
    },
    {
      "cell_type": "markdown",
      "metadata": {
        "id": "6GkRt8w6ymHN"
      },
      "source": [
        "_[Your answer for 2.1(a) goes here]_"
      ]
    },
    {
      "cell_type": "markdown",
      "metadata": {
        "id": "T5HoKdioymHN"
      },
      "source": [
        "### (b)"
      ]
    },
    {
      "cell_type": "code",
      "execution_count": 102,
      "metadata": {
        "id": "xUGIEmzYymHN"
      },
      "outputs": [],
      "source": [
        "### Your code for 2.1(b) goes here ###"
      ]
    },
    {
      "cell_type": "markdown",
      "metadata": {
        "id": "TGHAoXfMymHO"
      },
      "source": [
        "### (c)\n",
        "\n"
      ]
    },
    {
      "cell_type": "code",
      "execution_count": 103,
      "metadata": {
        "id": "ItDMYWoFymHO"
      },
      "outputs": [],
      "source": [
        "### Your code for 2.1(c) goes here ###"
      ]
    },
    {
      "cell_type": "markdown",
      "metadata": {
        "id": "7kNl2WpSymHO"
      },
      "source": [
        "### (d)"
      ]
    },
    {
      "cell_type": "code",
      "execution_count": 104,
      "metadata": {
        "id": "AblNbsncymHO"
      },
      "outputs": [],
      "source": [
        "### Your code for 2.1(d) goes here ###"
      ]
    },
    {
      "cell_type": "markdown",
      "metadata": {
        "id": "xuh9-lN7ymHP"
      },
      "source": [
        "### (e)"
      ]
    },
    {
      "cell_type": "markdown",
      "metadata": {
        "id": "tL9qHIJXymHP"
      },
      "source": [
        "_[Your answer for 2.1(e) goes here]_"
      ]
    },
    {
      "cell_type": "markdown",
      "metadata": {
        "id": "csN1zEzLymHP"
      },
      "source": [
        "### (f)"
      ]
    },
    {
      "cell_type": "markdown",
      "metadata": {
        "id": "a0HNj-AyymHP"
      },
      "source": [
        "_[Your answer for 2.1(f) goes here]_"
      ]
    },
    {
      "cell_type": "markdown",
      "metadata": {
        "id": "Ayov9je2ymHQ"
      },
      "source": [
        "### (g)"
      ]
    },
    {
      "cell_type": "markdown",
      "metadata": {
        "id": "B4E676ygymHQ"
      },
      "source": [
        "_[Your answer for 2.1(g) goes here]_"
      ]
    },
    {
      "cell_type": "markdown",
      "metadata": {
        "id": "a8Bo-uKXymHQ"
      },
      "source": [
        "### (h)"
      ]
    },
    {
      "cell_type": "markdown",
      "metadata": {
        "id": "3gxnjWUgymHQ"
      },
      "source": [
        "_[Your answer for 2.1(h) goes here]_"
      ]
    },
    {
      "cell_type": "markdown",
      "metadata": {
        "id": "G9BxqfsbymHQ"
      },
      "source": [
        "### (i)"
      ]
    },
    {
      "cell_type": "markdown",
      "metadata": {
        "id": "2bXh4Av6ymHR"
      },
      "source": [
        "_[Your answer for 2.1(i) goes here]_"
      ]
    },
    {
      "cell_type": "markdown",
      "metadata": {
        "id": "OzpMBV2cymHR"
      },
      "source": [
        "### (j)"
      ]
    },
    {
      "cell_type": "code",
      "execution_count": 105,
      "metadata": {
        "id": "CM0kJiNMzftk"
      },
      "outputs": [],
      "source": [
        "### Your code for 2.1(j) goes here ###"
      ]
    },
    {
      "cell_type": "markdown",
      "metadata": {
        "id": "1tX1-uIgymHR"
      },
      "source": [
        "_[Your justification for 2.1(j) goes here]_"
      ]
    },
    {
      "cell_type": "markdown",
      "metadata": {
        "id": "2BBhe25UymHR"
      },
      "source": [
        "### (k)"
      ]
    },
    {
      "cell_type": "markdown",
      "metadata": {
        "id": "PNxn1zIzymHR"
      },
      "source": [
        "_[Your answer for 2.1(k) goes here]_"
      ]
    },
    {
      "cell_type": "markdown",
      "metadata": {
        "id": "e9TnxUb3ymHR"
      },
      "source": [
        "### (l)"
      ]
    },
    {
      "cell_type": "code",
      "execution_count": 106,
      "metadata": {
        "id": "KUfiYo3lymHS"
      },
      "outputs": [],
      "source": [
        "### Your code for 2.1(l) goes here ###"
      ]
    },
    {
      "cell_type": "markdown",
      "metadata": {
        "id": "VlxMlRziymHS"
      },
      "source": [
        "### (m)"
      ]
    },
    {
      "cell_type": "code",
      "execution_count": 107,
      "metadata": {
        "id": "Kp2yCXJ-z3Gh"
      },
      "outputs": [],
      "source": [
        "### Your code for 2.1(m) goes here ###"
      ]
    },
    {
      "cell_type": "markdown",
      "metadata": {
        "id": "S-53k2x3ymHS"
      },
      "source": [
        "### (n)"
      ]
    },
    {
      "cell_type": "code",
      "execution_count": 108,
      "metadata": {
        "id": "emwfFgVAymHT"
      },
      "outputs": [],
      "source": [
        "### Your code for 2.1(n) goes here ###"
      ]
    },
    {
      "cell_type": "markdown",
      "metadata": {
        "id": "FpQWnOOpymHT"
      },
      "source": [
        "## Problem 2.2"
      ]
    },
    {
      "cell_type": "code",
      "execution_count": 109,
      "metadata": {
        "id": "QmAtpjMiymHU"
      },
      "outputs": [],
      "source": [
        "### Your code for 2.2 goes here ###"
      ]
    },
    {
      "cell_type": "markdown",
      "metadata": {
        "id": "it9WyiZiymHU"
      },
      "source": [
        "_[Your justification for 2.2 goes here]_"
      ]
    },
    {
      "cell_type": "markdown",
      "metadata": {
        "id": "6fqh4x4FymHV"
      },
      "source": [
        "## Problem 2.3"
      ]
    },
    {
      "cell_type": "code",
      "execution_count": 110,
      "metadata": {
        "id": "gMs526ezymHV"
      },
      "outputs": [],
      "source": [
        "### Your code for 2.3 goes here ###"
      ]
    },
    {
      "cell_type": "markdown",
      "metadata": {
        "id": "E98vhjP2ymHV"
      },
      "source": [
        "## Problem 2.4"
      ]
    },
    {
      "cell_type": "code",
      "execution_count": 111,
      "metadata": {
        "id": "SPylR2kxymHW"
      },
      "outputs": [],
      "source": [
        "### Your code for 2.4 goes here ###"
      ]
    },
    {
      "cell_type": "markdown",
      "metadata": {
        "id": "xfPMV5BEymHW"
      },
      "source": [
        "## Problem 2.5"
      ]
    },
    {
      "cell_type": "code",
      "execution_count": 112,
      "metadata": {
        "id": "RgVpyMUmymHW"
      },
      "outputs": [],
      "source": [
        "### Your code for 2.5 goes here ###"
      ]
    },
    {
      "cell_type": "markdown",
      "metadata": {
        "id": "ANRm2Vxh1Cda"
      },
      "source": [
        "### (a)"
      ]
    },
    {
      "cell_type": "markdown",
      "metadata": {
        "id": "2E0LfOKm1CVp"
      },
      "source": [
        "_[Your answer for 2.5(a) goes here]_"
      ]
    },
    {
      "cell_type": "markdown",
      "metadata": {
        "id": "HewpTMK61CI7"
      },
      "source": [
        "### (b)"
      ]
    },
    {
      "cell_type": "markdown",
      "metadata": {
        "id": "LRK015A91B-R"
      },
      "source": [
        "_[Your answer for 2.5(b) goes here]_"
      ]
    },
    {
      "cell_type": "markdown",
      "metadata": {
        "id": "jnGzZ9gO1BoX"
      },
      "source": [
        "### (c)"
      ]
    },
    {
      "cell_type": "markdown",
      "metadata": {
        "id": "zXc0HGwg1BlY"
      },
      "source": [
        "_[Your answer for 2.5(c) goes here]_"
      ]
    },
    {
      "cell_type": "markdown",
      "metadata": {
        "id": "fE1TPn3s1Xq9"
      },
      "source": [
        "### (d)"
      ]
    },
    {
      "cell_type": "markdown",
      "metadata": {
        "id": "1RXjXFH81XhL"
      },
      "source": [
        "_[Your answer for 2.5(d) goes here]_"
      ]
    }
  ],
  "metadata": {
    "colab": {
      "collapsed_sections": [],
      "provenance": []
    },
    "kernelspec": {
      "display_name": "Python 3",
      "language": "python",
      "name": "python3"
    },
    "language_info": {
      "codemirror_mode": {
        "name": "ipython",
        "version": 3
      },
      "file_extension": ".py",
      "mimetype": "text/x-python",
      "name": "python",
      "nbconvert_exporter": "python",
      "pygments_lexer": "ipython3",
      "version": "3.11.9"
    }
  },
  "nbformat": 4,
  "nbformat_minor": 0
}
