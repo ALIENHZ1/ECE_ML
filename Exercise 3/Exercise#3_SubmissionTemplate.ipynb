{
 "cells": [
  {
   "cell_type": "markdown",
   "metadata": {
    "id": "DAO8AZsc266y"
   },
   "source": [
    "# Hazem Zaky\n",
    "# Programming Exercise \\#3\n",
    "---"
   ]
  },
  {
   "cell_type": "markdown",
   "metadata": {
    "id": "rJOtXeNg38_u"
   },
   "source": [
    "# Preamble"
   ]
  },
  {
   "cell_type": "code",
   "execution_count": null,
   "metadata": {
    "id": "Ldu0WSDK4IjA"
   },
   "outputs": [],
   "source": [
    "# optional code cell when using Google Colab with Google Drive\n",
    "\n",
    "# remove the docstring comment block below in order to mount Google Drive\n",
    "'''\n",
    "# mount Google Drive in Google Colab\n",
    "from google.colab import drive\n",
    "drive.mount('/content/drive')\n",
    "\n",
    "# change directory using the magic command %cd\n",
    "### replace [MY PATH] below with your own path in Google Drive ###\n",
    "### %cd /content/drive/My\\ Drive/[MY PATH] ###\n",
    "'''"
   ]
  },
  {
   "cell_type": "code",
   "execution_count": null,
   "metadata": {
    "id": "rjUKWdVD_Eqh"
   },
   "outputs": [],
   "source": [
    "# import relevant Python libraries\n",
    "\n",
    "import numpy as np\n",
    "import pandas as pd\n",
    "from scipy import stats as sps\n",
    "from matplotlib import pyplot as plt\n",
    "from mpl_toolkits.mplot3d import Axes3D\n",
    "from IPython.display import display, Latex"
   ]
  },
  {
   "cell_type": "markdown",
   "metadata": {
    "id": "RO2Ki83J2niP"
   },
   "source": [
    "# **1. Noise Level Classification Using Plug-in Classifiers**"
   ]
  },
  {
   "cell_type": "markdown",
   "metadata": {
    "id": "aikIRGtr2niQ"
   },
   "source": [
    "## 1.1"
   ]
  },
  {
   "cell_type": "markdown",
   "metadata": {
    "id": "p8SzGgJcurhF"
   },
   "source": [
    "### (a)"
   ]
  },
  {
   "cell_type": "code",
   "execution_count": null,
   "metadata": {
    "id": "Lfh4yXOk2niW"
   },
   "outputs": [],
   "source": [
    "### Your code for 1.1(a) goes here ###"
   ]
  },
  {
   "cell_type": "markdown",
   "metadata": {
    "id": "H-9uYyEtzJER"
   },
   "source": [
    "### (b)"
   ]
  },
  {
   "cell_type": "markdown",
   "metadata": {
    "id": "8qV9YNBXzNQb"
   },
   "source": [
    "_[Your answer for 1.1(b) goes here]_"
   ]
  },
  {
   "cell_type": "markdown",
   "metadata": {
    "id": "Z0L4G8C-2nid"
   },
   "source": [
    "## 1.2"
   ]
  },
  {
   "cell_type": "markdown",
   "metadata": {
    "id": "Onoc6kDMztZQ"
   },
   "source": [
    "### (a)"
   ]
  },
  {
   "cell_type": "code",
   "execution_count": null,
   "metadata": {
    "id": "K5oAuY1E2nie"
   },
   "outputs": [],
   "source": [
    "### Your code for 1.2 goes here ###"
   ]
  },
  {
   "cell_type": "markdown",
   "metadata": {
    "id": "I0CEiMr122HV"
   },
   "source": [
    "### (b)"
   ]
  },
  {
   "cell_type": "markdown",
   "metadata": {
    "id": "WECF7Q4f3_ow"
   },
   "source": [
    "_[Your answer for 1.2(b) goes here]_"
   ]
  },
  {
   "cell_type": "markdown",
   "metadata": {
    "id": "bx9KXie42nik"
   },
   "source": [
    "## 1.3"
   ]
  },
  {
   "cell_type": "code",
   "execution_count": null,
   "metadata": {
    "id": "4uhYkSmY2nil"
   },
   "outputs": [],
   "source": [
    "### Your code for 1.3 goes here ###"
   ]
  },
  {
   "cell_type": "markdown",
   "metadata": {
    "id": "BoUIuPe62nir"
   },
   "source": [
    "## 1.4"
   ]
  },
  {
   "cell_type": "code",
   "execution_count": null,
   "metadata": {
    "id": "uEDxNn8n6L6E"
   },
   "outputs": [],
   "source": [
    "### Your code for 1.4 goes here ###"
   ]
  },
  {
   "cell_type": "markdown",
   "metadata": {
    "id": "vsxCNaMf2niu"
   },
   "source": [
    "## 1.5"
   ]
  },
  {
   "cell_type": "markdown",
   "metadata": {
    "id": "J6Q4Oz8M2niv"
   },
   "source": [
    "### (a)"
   ]
  },
  {
   "cell_type": "code",
   "execution_count": null,
   "metadata": {
    "id": "YRmWdR5-2niw"
   },
   "outputs": [],
   "source": [
    "### Your code for 1.5(a) goes here ###"
   ]
  },
  {
   "cell_type": "markdown",
   "metadata": {
    "id": "nG1SNKdB2ni2"
   },
   "source": [
    "### (b)"
   ]
  },
  {
   "cell_type": "code",
   "execution_count": null,
   "metadata": {
    "id": "H2HLmmEI2ni3"
   },
   "outputs": [],
   "source": [
    "### Your code for 1.5(b) goes here ###"
   ]
  },
  {
   "cell_type": "markdown",
   "metadata": {
    "id": "s__yrlj22njG"
   },
   "source": [
    "## 1.6"
   ]
  },
  {
   "cell_type": "markdown",
   "metadata": {
    "id": "5hWiEPFCIifd"
   },
   "source": [
    "### (a)"
   ]
  },
  {
   "cell_type": "markdown",
   "metadata": {
    "id": "9g8ZKbq9I1Pr"
   },
   "source": [
    "_[Your answer for 1.6(a) goes here]_"
   ]
  },
  {
   "cell_type": "markdown",
   "metadata": {
    "id": "wN5D_PI7InFp"
   },
   "source": [
    "### (b)"
   ]
  },
  {
   "cell_type": "markdown",
   "metadata": {
    "id": "tFszY6RsI3Yj"
   },
   "source": [
    "_[Your answer for 1.6(b) goes here]_"
   ]
  },
  {
   "cell_type": "markdown",
   "metadata": {
    "id": "L0_eUdvAIpIn"
   },
   "source": [
    "### (c)"
   ]
  },
  {
   "cell_type": "markdown",
   "metadata": {
    "id": "JOTKEcBEI4jV"
   },
   "source": [
    "_[Your answer for 1.6(c) goes here]_"
   ]
  },
  {
   "cell_type": "markdown",
   "metadata": {
    "id": "GBEzkVaVItLn"
   },
   "source": [
    "### (d)"
   ]
  },
  {
   "cell_type": "markdown",
   "metadata": {
    "id": "W8990YcaI6CR"
   },
   "source": [
    "_[Your answer for 1.6(d) goes here]_"
   ]
  }
 ],
 "metadata": {
  "colab": {
   "provenance": []
  },
  "kernelspec": {
   "display_name": "Python 3",
   "language": "python",
   "name": "python3"
  },
  "language_info": {
   "codemirror_mode": {
    "name": "ipython",
    "version": 3
   },
   "file_extension": ".py",
   "mimetype": "text/x-python",
   "name": "python",
   "nbconvert_exporter": "python",
   "pygments_lexer": "ipython3",
   "version": "3.7.9"
  }
 },
 "nbformat": 4,
 "nbformat_minor": 0
}
